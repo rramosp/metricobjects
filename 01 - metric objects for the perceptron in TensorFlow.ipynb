{
 "cells": [
  {
   "cell_type": "code",
   "execution_count": 1,
   "metadata": {},
   "outputs": [],
   "source": [
    "!wget --no-cache -O init.py -q https://raw.githubusercontent.com/rramosp/metricobjects/master/init.py\n",
    "import init; init.init(force_download=False);"
   ]
  },
  {
   "cell_type": "code",
   "execution_count": 1,
   "metadata": {},
   "outputs": [
    {
     "data": {
      "text/html": [
       "<style>.container { width:100% !important; }</style>"
      ],
      "text/plain": [
       "<IPython.core.display.HTML object>"
      ]
     },
     "metadata": {},
     "output_type": "display_data"
    },
    {
     "data": {
      "text/plain": [
       "'2.1.0'"
      ]
     },
     "execution_count": 1,
     "metadata": {},
     "output_type": "execute_result"
    }
   ],
   "source": [
    "try:\n",
    "    import einsteinpy\n",
    "except ModuleNotFoundError:\n",
    "    !pip install einsteinpy\n",
    "import sys\n",
    "if 'google.colab' in sys.modules:\n",
    "    !pip install --upgrade sympy\n",
    "    print (\"setting tensorflow version in colab\")\n",
    "    %tensorflow_version 2.x\n",
    "    import sympy as sy\n",
    "    sy.init_printing(use_latex='matplotlib')\n",
    "\n",
    "else:\n",
    "    import sympy as sy\n",
    "    sy.init_printing(use_latex=True)\n",
    "\n",
    "from IPython.core.display import display, HTML\n",
    "display(HTML(\"<style>.container { width:100% !important; }</style>\"))\n",
    "\n",
    "import tensorflow as tf\n",
    "tf.__version__"
   ]
  },
  {
   "cell_type": "code",
   "execution_count": 2,
   "metadata": {},
   "outputs": [],
   "source": [
    "import numpy as np\n",
    "import matplotlib.pyplot as plt\n",
    "%matplotlib inline\n",
    "from einsteinpy.symbolic import MetricTensor, ChristoffelSymbols, RiemannCurvatureTensor, RicciTensor\n",
    "import itertools"
   ]
  },
  {
   "cell_type": "markdown",
   "metadata": {},
   "source": [
    "\n",
    "\n",
    "# The transformation induced by a perceptron\n",
    "\n",
    "- $dim\\_u$: the number of input neurons\n",
    "- $dim\\_x$: the number of ouput neurons\n",
    "\n",
    "### if $dim\\_u<dim\\_x$ we have an embedding of a flat manifold in a larger, also flat, ambient space\n",
    "### if $dim\\_u>dim\\_x$ we have a projection of a flat manifold in a smaller, also flat, projection space\n",
    "\n",
    "\n",
    "- **input**: $\\mathbf{u} = u^\\alpha \\in \\mathbb{R}^{dim\\_u}$ (indices as greek letters)\n",
    "- **output**: $\\mathbf{x} = x^i \\in \\mathbb{R}^{dim\\_x}$ (indices as latin letters)\n",
    "- **weights**: $\\mathbf{W} = W^i_\\alpha \\in \\mathbb{R}^{dim\\_x\\;\\times\\; dim\\_u}$\n",
    "- **biases**: $\\mathbf{b} = b^i \\in \\mathbb{R}^{dim\\_x}$\n",
    "- **activation**: $\\text{a}: \\mathbb{R} \\rightarrow \\mathbb{R}$ (or vectorized component-wise)\n",
    "\n",
    "\n",
    "## Metric objects\n",
    "\n",
    "$$\\begin{align*}\n",
    "\\text{The transformation function}\\;\\;\\;: \\;\\;\\;&x^i&= \\;\\;\\;&x^i(u^\\alpha, u^\\beta,...)&s^i= \\;\\;\\;& W^i_\\gamma u^\\gamma + b^i\\\\\n",
    "&&&&x^i= \\;\\;\\;& \\text{a}(s^i)\\\\\n",
    "\\text{The Jacobian}\\;\\;\\;: \\;\\;\\;&\\mathbf{J} \\;= \\; J^i_\\alpha &= \\;\\;\\;&\\frac{\\partial x^i}{\\partial u^\\alpha}&= \\;\\;\\; &\\dot{\\text{a}}(s^i) W^i_\\alpha \\\\\n",
    "\\text{The Hessian}\\;\\;\\;: \\;\\;\\;&\\mathbf{H} \\;= \\; H^i_{\\alpha\\beta} &= \\;\\;\\;&\\frac{\\partial x^i}{\\partial u^\\alpha\\partial u^\\beta} &= \\;\\;\\;&\\ddot{\\text{a}}(s^i) W^i_\\alpha W^i_\\beta \\\\\n",
    "\\text{The Metric Tensor}\\;\\;\\;: \\;\\;\\;&g_{\\alpha\\beta} &= \\;\\;\\;& \\mathbf{J}^T\\mathbf{J} = \\sum_{k=0}^2 J^k_\\alpha J^k_\\beta&= \\;\\;\\; &\\sum_{k=0}^2 \\dot{\\text{a}}(s^k)^2 W^k_\\alpha W^k_\\beta \\\\\n",
    "\\text{The Derivatives of the Metric Tensor}\\;\\;\\;: \\;\\;\\;&g_{\\alpha\\beta},\\gamma &= \\;\\;\\;&\\frac{\\partial g_{\\alpha\\beta}}{\\partial u^\\gamma}  &= \\;\\;\\;  &\\sum_{k=0}^2 2\\dot{\\text{a}}(s^k)\\ddot{\\text{a}}(s^k) W^k_\\alpha W^k_\\beta W^k_\\gamma\\\\\n",
    "\\text{The Christoffel Symbols}\\;\\;\\;: \\;\\;\\;&\\Gamma^\\beta_{\\mu\\nu} &= \\;\\;\\;& \\frac{1}{2}g^{\\beta\\alpha}\\Big(g_{\\alpha\\mu,\\nu} + g_{\\alpha\\nu,\\mu} - g_{\\mu\\nu,\\alpha}  \\Big)\\\\\n",
    "\\text{The Derivatives of the Christoffel Symbols}\\;\\;\\;: \\;\\;\\;&\\Gamma^\\beta_{\\mu\\nu,\\gamma}  &= \\;\\;\\;&\\frac{\\partial \\Gamma^\\beta_{\\mu\\nu} }{\\partial u^\\gamma}\\\\\n",
    "\\text{The Riemman Curvature Tensor}^{(*)}\\;\\;\\;: \\;\\;\\;&R^i_{jkm} &= \\;\\;\\;&\\Gamma^i_{jm,k} - \\Gamma^i_{jk,m} + \\Gamma^i_{rk}\\Gamma^r_{jm} - \\Gamma^i_{rm}\\Gamma^r_{jk}\\\\\n",
    "\\text{The Ricci Tensor}^{(*)}\\;\\;\\;: \\;\\;\\;&R_{jm} &= \\;\\;\\;& R^i_{jim}\\\\\n",
    "\\text{The Ricci Scalar}^{(*)}\\;\\;\\;: \\;\\;\\;&R &= \\;\\;\\;& g^{jm}R_{jm} \\\\\n",
    "\\end{align*}$$\n",
    "\n",
    "$$_\\text{(*) keeping standard notation with latin indices but should use greek indices as it refers to the output manifold}$$\n"
   ]
  },
  {
   "cell_type": "markdown",
   "metadata": {},
   "source": [
    "https://digitalcommons.latech.edu/cgi/viewcontent.cgi?article=1008&context=mathematics-senior-capstone-papers\n",
    "\n",
    "https://math.stackexchange.com/questions/1809324/visual-explanation-of-the-indices-of-the-riemann-curvature-tensor"
   ]
  },
  {
   "cell_type": "code",
   "execution_count": 3,
   "metadata": {},
   "outputs": [
    {
     "data": {
      "text/latex": [
       "$\\displaystyle \\left( W, \\  u, \\  \\left[\\begin{matrix}W_{0, 0} u_{0, 0} + W_{0, 1} u_{1, 0}\\\\W_{1, 0} u_{0, 0} + W_{1, 1} u_{1, 0}\\\\W_{2, 0} u_{0, 0} + W_{2, 1} u_{1, 0}\\end{matrix}\\right], \\  \\left[\\begin{matrix}\\frac{1}{e^{- W_{0, 0} u_{0, 0} - W_{0, 1} u_{1, 0}} + 1}\\\\\\frac{1}{e^{- W_{1, 0} u_{0, 0} - W_{1, 1} u_{1, 0}} + 1}\\\\\\frac{1}{e^{- W_{2, 0} u_{0, 0} - W_{2, 1} u_{1, 0}} + 1}\\end{matrix}\\right]\\right)$"
      ],
      "text/plain": [
       "⎛                           ⎡           1           ⎤⎞\n",
       "⎜                           ⎢───────────────────────⎥⎟\n",
       "⎜                           ⎢ -W₀₀⋅u₀₀ - W₀₁⋅u₁₀    ⎥⎟\n",
       "⎜                           ⎢ℯ                   + 1⎥⎟\n",
       "⎜                           ⎢                       ⎥⎟\n",
       "⎜      ⎡W₀₀⋅u₀₀ + W₀₁⋅u₁₀⎤  ⎢           1           ⎥⎟\n",
       "⎜      ⎢                 ⎥  ⎢───────────────────────⎥⎟\n",
       "⎜W, u, ⎢W₁₀⋅u₀₀ + W₁₁⋅u₁₀⎥, ⎢ -W₁₀⋅u₀₀ - W₁₁⋅u₁₀    ⎥⎟\n",
       "⎜      ⎢                 ⎥  ⎢ℯ                   + 1⎥⎟\n",
       "⎜      ⎣W₂₀⋅u₀₀ + W₂₁⋅u₁₀⎦  ⎢                       ⎥⎟\n",
       "⎜                           ⎢           1           ⎥⎟\n",
       "⎜                           ⎢───────────────────────⎥⎟\n",
       "⎜                           ⎢ -W₂₀⋅u₀₀ - W₂₁⋅u₁₀    ⎥⎟\n",
       "⎝                           ⎣ℯ                   + 1⎦⎠"
      ]
     },
     "execution_count": 3,
     "metadata": {},
     "output_type": "execute_result"
    }
   ],
   "source": [
    "dim_u = 2\n",
    "dim_x = 3\n",
    "\n",
    "W = sy.MatrixSymbol(\"W\", dim_x,dim_u)\n",
    "u = sy.MatrixSymbol(\"u\", dim_u,1)\n",
    "linear  = lambda s: s\n",
    "sqr     = lambda s: s**2\n",
    "sigmoid = lambda s: 1/(1+sy.exp(-s))\n",
    "a = sigmoid\n",
    "s = sy.Matrix([i for i in W*u])\n",
    "x = sy.Matrix([a(i) for i in s])\n",
    "W, u, s, x"
   ]
  },
  {
   "cell_type": "markdown",
   "metadata": {},
   "source": [
    "##  the jacobian of the transformation\n",
    "\n",
    "$$\\mathbf{J} = J^i_\\alpha = \\frac{\\partial x^i}{\\partial u^\\alpha}$$\n",
    "\n",
    "in this case\n",
    "\n",
    "$$\\begin{align*}\n",
    "\\frac{\\partial x^i}{\\partial u^\\alpha} =&  \\frac{\\partial \\text{a}(s^i)}{\\partial u^\\alpha} \\\\\n",
    " =& \\frac{\\partial \\text{a}(s^i)}{\\partial s^i} \\frac{\\partial s^i}{\\partial u^\\alpha}\\\\\n",
    " =& \\dot{\\text{a}}(s^i) W^i_\\alpha\\\\\n",
    "\\end{align*}$$\n",
    "\n",
    "denoting $\\frac{\\partial \\text{a}(s^i)}{\\partial s^i}=\\dot{\\text{a}}(s^i)$\n",
    "\n",
    "\n",
    "$$\\mathbf{J} = J^i_\\alpha = \\dot{\\text{a}}(s^i) W^i_\\alpha$$\n",
    "\n",
    "and observing that $ \\frac{\\partial s^i}{\\partial u^\\alpha} =  \\frac{\\partial}{\\partial u^\\alpha}(W^i_\\gamma u^\\gamma + b^i)=W^i_\\alpha$"
   ]
  },
  {
   "cell_type": "code",
   "execution_count": 4,
   "metadata": {},
   "outputs": [
    {
     "data": {
      "text/latex": [
       "$\\displaystyle \\left[\\begin{matrix}\\frac{e^{- W_{0, 0} u_{0, 0} - W_{0, 1} u_{1, 0}} W_{0, 0}}{\\left(e^{- W_{0, 0} u_{0, 0} - W_{0, 1} u_{1, 0}} + 1\\right)^{2}} & \\frac{e^{- W_{0, 0} u_{0, 0} - W_{0, 1} u_{1, 0}} W_{0, 1}}{\\left(e^{- W_{0, 0} u_{0, 0} - W_{0, 1} u_{1, 0}} + 1\\right)^{2}}\\\\\\frac{e^{- W_{1, 0} u_{0, 0} - W_{1, 1} u_{1, 0}} W_{1, 0}}{\\left(e^{- W_{1, 0} u_{0, 0} - W_{1, 1} u_{1, 0}} + 1\\right)^{2}} & \\frac{e^{- W_{1, 0} u_{0, 0} - W_{1, 1} u_{1, 0}} W_{1, 1}}{\\left(e^{- W_{1, 0} u_{0, 0} - W_{1, 1} u_{1, 0}} + 1\\right)^{2}}\\\\\\frac{e^{- W_{2, 0} u_{0, 0} - W_{2, 1} u_{1, 0}} W_{2, 0}}{\\left(e^{- W_{2, 0} u_{0, 0} - W_{2, 1} u_{1, 0}} + 1\\right)^{2}} & \\frac{e^{- W_{2, 0} u_{0, 0} - W_{2, 1} u_{1, 0}} W_{2, 1}}{\\left(e^{- W_{2, 0} u_{0, 0} - W_{2, 1} u_{1, 0}} + 1\\right)^{2}}\\end{matrix}\\right]$"
      ],
      "text/plain": [
       "⎡  -W₀₀⋅u₀₀ - W₀₁⋅u₁₀          -W₀₀⋅u₀₀ - W₀₁⋅u₁₀      ⎤\n",
       "⎢ ℯ                  ⋅W₀₀     ℯ                  ⋅W₀₁  ⎥\n",
       "⎢──────────────────────────  ──────────────────────────⎥\n",
       "⎢                         2                           2⎥\n",
       "⎢⎛ -W₀₀⋅u₀₀ - W₀₁⋅u₁₀    ⎞   ⎛ -W₀₀⋅u₀₀ - W₀₁⋅u₁₀    ⎞ ⎥\n",
       "⎢⎝ℯ                   + 1⎠   ⎝ℯ                   + 1⎠ ⎥\n",
       "⎢                                                      ⎥\n",
       "⎢  -W₁₀⋅u₀₀ - W₁₁⋅u₁₀          -W₁₀⋅u₀₀ - W₁₁⋅u₁₀      ⎥\n",
       "⎢ ℯ                  ⋅W₁₀     ℯ                  ⋅W₁₁  ⎥\n",
       "⎢──────────────────────────  ──────────────────────────⎥\n",
       "⎢                         2                           2⎥\n",
       "⎢⎛ -W₁₀⋅u₀₀ - W₁₁⋅u₁₀    ⎞   ⎛ -W₁₀⋅u₀₀ - W₁₁⋅u₁₀    ⎞ ⎥\n",
       "⎢⎝ℯ                   + 1⎠   ⎝ℯ                   + 1⎠ ⎥\n",
       "⎢                                                      ⎥\n",
       "⎢  -W₂₀⋅u₀₀ - W₂₁⋅u₁₀          -W₂₀⋅u₀₀ - W₂₁⋅u₁₀      ⎥\n",
       "⎢ ℯ                  ⋅W₂₀     ℯ                  ⋅W₂₁  ⎥\n",
       "⎢──────────────────────────  ──────────────────────────⎥\n",
       "⎢                         2                           2⎥\n",
       "⎢⎛ -W₂₀⋅u₀₀ - W₂₁⋅u₁₀    ⎞   ⎛ -W₂₀⋅u₀₀ - W₂₁⋅u₁₀    ⎞ ⎥\n",
       "⎣⎝ℯ                   + 1⎠   ⎝ℯ                   + 1⎠ ⎦"
      ]
     },
     "execution_count": 4,
     "metadata": {},
     "output_type": "execute_result"
    }
   ],
   "source": [
    "J = sy.Matrix([[j.diff(i) for  i in u] for j in x])\n",
    "J"
   ]
  },
  {
   "cell_type": "markdown",
   "metadata": {},
   "source": [
    "just as exercise, we can do this by hand if we use the sigmoid. Observe its differential"
   ]
  },
  {
   "cell_type": "code",
   "execution_count": 5,
   "metadata": {},
   "outputs": [
    {
     "data": {
      "image/png": "[encoded data removed]",
      "text/latex": [
       "$\\displaystyle \\frac{e^{- t}}{\\left(1 + e^{- t}\\right)^{2}}$"
      ],
      "text/plain": [
       "    -t    \n",
       "   ℯ      \n",
       "──────────\n",
       "         2\n",
       "⎛     -t⎞ \n",
       "⎝1 + ℯ  ⎠ "
      ]
     },
     "execution_count": 5,
     "metadata": {},
     "output_type": "execute_result"
    }
   ],
   "source": [
    "t = sy.symbols('t')\n",
    "sigmoid(t).diff(t)"
   ]
  },
  {
   "cell_type": "markdown",
   "metadata": {},
   "source": [
    "substituting $t$ with $s^i$ to obtain $\\dot{\\text{a}}(s^i)$"
   ]
  },
  {
   "cell_type": "code",
   "execution_count": 6,
   "metadata": {},
   "outputs": [
    {
     "data": {
      "image/png": "[encoded data removed]",
      "text/latex": [
       "$\\displaystyle \\frac{e^{- W_{2, 0} u_{0, 0} - W_{2, 1} u_{1, 0}}}{\\left(e^{- W_{2, 0} u_{0, 0} - W_{2, 1} u_{1, 0}} + 1\\right)^{2}}$"
      ],
      "text/plain": [
       "    -W₂₀⋅u₀₀ - W₂₁⋅u₁₀    \n",
       "   ℯ                      \n",
       "──────────────────────────\n",
       "                         2\n",
       "⎛ -W₂₀⋅u₀₀ - W₂₁⋅u₁₀    ⎞ \n",
       "⎝ℯ                   + 1⎠ "
      ]
     },
     "execution_count": 6,
     "metadata": {},
     "output_type": "execute_result"
    }
   ],
   "source": [
    "sigmoid(t).diff(t).subs({t: s[dim_x-1]})"
   ]
  },
  {
   "cell_type": "markdown",
   "metadata": {},
   "source": [
    "to we can build the Jacobian by hand for the sigmoid"
   ]
  },
  {
   "cell_type": "code",
   "execution_count": 7,
   "metadata": {},
   "outputs": [
    {
     "data": {
      "text/latex": [
       "$\\displaystyle \\left[\\begin{matrix}\\frac{e^{- W_{0, 0} u_{0, 0} - W_{0, 1} u_{1, 0}} W_{0, 0}}{\\left(e^{- W_{0, 0} u_{0, 0} - W_{0, 1} u_{1, 0}} + 1\\right)^{2}} & \\frac{e^{- W_{0, 0} u_{0, 0} - W_{0, 1} u_{1, 0}} W_{0, 1}}{\\left(e^{- W_{0, 0} u_{0, 0} - W_{0, 1} u_{1, 0}} + 1\\right)^{2}}\\\\\\frac{e^{- W_{1, 0} u_{0, 0} - W_{1, 1} u_{1, 0}} W_{1, 0}}{\\left(e^{- W_{1, 0} u_{0, 0} - W_{1, 1} u_{1, 0}} + 1\\right)^{2}} & \\frac{e^{- W_{1, 0} u_{0, 0} - W_{1, 1} u_{1, 0}} W_{1, 1}}{\\left(e^{- W_{1, 0} u_{0, 0} - W_{1, 1} u_{1, 0}} + 1\\right)^{2}}\\\\\\frac{e^{- W_{2, 0} u_{0, 0} - W_{2, 1} u_{1, 0}} W_{2, 0}}{\\left(e^{- W_{2, 0} u_{0, 0} - W_{2, 1} u_{1, 0}} + 1\\right)^{2}} & \\frac{e^{- W_{2, 0} u_{0, 0} - W_{2, 1} u_{1, 0}} W_{2, 1}}{\\left(e^{- W_{2, 0} u_{0, 0} - W_{2, 1} u_{1, 0}} + 1\\right)^{2}}\\end{matrix}\\right]$"
      ],
      "text/plain": [
       "⎡  -W₀₀⋅u₀₀ - W₀₁⋅u₁₀          -W₀₀⋅u₀₀ - W₀₁⋅u₁₀      ⎤\n",
       "⎢ ℯ                  ⋅W₀₀     ℯ                  ⋅W₀₁  ⎥\n",
       "⎢──────────────────────────  ──────────────────────────⎥\n",
       "⎢                         2                           2⎥\n",
       "⎢⎛ -W₀₀⋅u₀₀ - W₀₁⋅u₁₀    ⎞   ⎛ -W₀₀⋅u₀₀ - W₀₁⋅u₁₀    ⎞ ⎥\n",
       "⎢⎝ℯ                   + 1⎠   ⎝ℯ                   + 1⎠ ⎥\n",
       "⎢                                                      ⎥\n",
       "⎢  -W₁₀⋅u₀₀ - W₁₁⋅u₁₀          -W₁₀⋅u₀₀ - W₁₁⋅u₁₀      ⎥\n",
       "⎢ ℯ                  ⋅W₁₀     ℯ                  ⋅W₁₁  ⎥\n",
       "⎢──────────────────────────  ──────────────────────────⎥\n",
       "⎢                         2                           2⎥\n",
       "⎢⎛ -W₁₀⋅u₀₀ - W₁₁⋅u₁₀    ⎞   ⎛ -W₁₀⋅u₀₀ - W₁₁⋅u₁₀    ⎞ ⎥\n",
       "⎢⎝ℯ                   + 1⎠   ⎝ℯ                   + 1⎠ ⎥\n",
       "⎢                                                      ⎥\n",
       "⎢  -W₂₀⋅u₀₀ - W₂₁⋅u₁₀          -W₂₀⋅u₀₀ - W₂₁⋅u₁₀      ⎥\n",
       "⎢ ℯ                  ⋅W₂₀     ℯ                  ⋅W₂₁  ⎥\n",
       "⎢──────────────────────────  ──────────────────────────⎥\n",
       "⎢                         2                           2⎥\n",
       "⎢⎛ -W₂₀⋅u₀₀ - W₂₁⋅u₁₀    ⎞   ⎛ -W₂₀⋅u₀₀ - W₂₁⋅u₁₀    ⎞ ⎥\n",
       "⎣⎝ℯ                   + 1⎠   ⎝ℯ                   + 1⎠ ⎦"
      ]
     },
     "execution_count": 7,
     "metadata": {},
     "output_type": "execute_result"
    }
   ],
   "source": [
    "J_hand = sy.Matrix([[sigmoid(t).diff(t).subs({t: s[i]})*W[i,alpha] for i in range(dim_x)] for alpha in range(dim_u)]).T\n",
    "J_hand"
   ]
  },
  {
   "cell_type": "code",
   "execution_count": 8,
   "metadata": {},
   "outputs": [
    {
     "data": {
      "text/plain": [
       "True"
      ]
     },
     "execution_count": 8,
     "metadata": {},
     "output_type": "execute_result"
    }
   ],
   "source": [
    "J==J_hand"
   ]
  },
  {
   "cell_type": "markdown",
   "metadata": {},
   "source": [
    "get numerical evaluations"
   ]
  },
  {
   "cell_type": "code",
   "execution_count": 9,
   "metadata": {},
   "outputs": [],
   "source": [
    "def sy_eval(expr, W, u, nW, nu):\n",
    "    return np.r_[expr.subs({W[i,alpha]: nW[i, alpha] for i,alpha in itertools.product(range(0,dim_x), range(0,dim_u))})\\\n",
    "                     .subs({u[alpha,0]: nu[alpha,0] for alpha in range(0,dim_u)})].astype(float)\n"
   ]
  },
  {
   "cell_type": "code",
   "execution_count": 10,
   "metadata": {},
   "outputs": [
    {
     "data": {
      "text/plain": [
       "array([[0.19254481],\n",
       "       [0.2680553 ],\n",
       "       [0.86977336]])"
      ]
     },
     "execution_count": 10,
     "metadata": {},
     "output_type": "execute_result"
    }
   ],
   "source": [
    "sy_eval(x, W, u, nW=np.random.normal(size=W.shape), nu=np.random.normal(size=u.shape))"
   ]
  },
  {
   "cell_type": "code",
   "execution_count": 11,
   "metadata": {},
   "outputs": [
    {
     "data": {
      "text/plain": [
       "array([[-0.04185382, -0.13996193],\n",
       "       [ 0.15571656,  0.05539929],\n",
       "       [-0.06997518, -0.18963061]])"
      ]
     },
     "execution_count": 11,
     "metadata": {},
     "output_type": "execute_result"
    }
   ],
   "source": [
    "sy_eval(J, W, u, nW=np.random.normal(size=W.shape), nu=np.random.normal(size=u.shape))"
   ]
  },
  {
   "cell_type": "markdown",
   "metadata": {},
   "source": [
    "\n",
    "### now in TensorFlow"
   ]
  },
  {
   "cell_type": "code",
   "execution_count": 12,
   "metadata": {},
   "outputs": [
    {
     "data": {
      "text/plain": [
       "(<tf.Variable 'W:0' shape=(3, 2) dtype=float64, numpy=\n",
       " array([[ 0.7329587 ,  0.12032583],\n",
       "        [ 1.06797699, -0.4415987 ],\n",
       "        [-2.04648562,  1.4915178 ]])>,\n",
       " <tf.Variable 'Variable:0' shape=(2, 1) dtype=float64, numpy=\n",
       " array([[-0.81454065],\n",
       "        [ 0.17518983]])>)"
      ]
     },
     "execution_count": 12,
     "metadata": {},
     "output_type": "execute_result"
    }
   ],
   "source": [
    "tW = tf.Variable(np.random.normal(size=(dim_x,dim_u)), name=\"W\")\n",
    "tu = tf.Variable(np.random.normal(size=(dim_u,1)))\n",
    "tb  = tf.Variable(np.zeros((dim_x,1)))\n",
    "tW, tu"
   ]
  },
  {
   "cell_type": "code",
   "execution_count": 13,
   "metadata": {},
   "outputs": [],
   "source": [
    "def transformation(tW, tu):\n",
    "    \n",
    "    tsigmoid = lambda x: 1/(1+tf.exp(-x))\n",
    "    tlinear = lambda x: x\n",
    "    ta = tsigmoid\n",
    "    ts = tf.matmul(tW,tu) + tb\n",
    "    tx = ta(ts)\n",
    "    return tx, ts, ta"
   ]
  },
  {
   "cell_type": "code",
   "execution_count": 14,
   "metadata": {},
   "outputs": [],
   "source": [
    "tx, ts, ta = transformation(tW, tu)"
   ]
  },
  {
   "cell_type": "markdown",
   "metadata": {},
   "source": [
    "check transformation function evals ok in sympy and tensorflow"
   ]
  },
  {
   "cell_type": "code",
   "execution_count": 15,
   "metadata": {},
   "outputs": [
    {
     "data": {
      "text/plain": [
       "<tf.Tensor: shape=(3, 1), dtype=float64, numpy=\n",
       "array([[0.35986623],\n",
       "       [0.27943332],\n",
       "       [0.87305498]])>"
      ]
     },
     "execution_count": 15,
     "metadata": {},
     "output_type": "execute_result"
    }
   ],
   "source": [
    "tx"
   ]
  },
  {
   "cell_type": "code",
   "execution_count": 16,
   "metadata": {},
   "outputs": [
    {
     "data": {
      "text/plain": [
       "array([[0.35986623],\n",
       "       [0.27943332],\n",
       "       [0.87305498]])"
      ]
     },
     "execution_count": 16,
     "metadata": {},
     "output_type": "execute_result"
    }
   ],
   "source": [
    "sx = sy_eval(x, W, u, nW=tW.numpy(), nu=tu.numpy())\n",
    "sx"
   ]
  },
  {
   "cell_type": "code",
   "execution_count": 17,
   "metadata": {},
   "outputs": [
    {
     "data": {
      "text/plain": [
       "True"
      ]
     },
     "execution_count": 17,
     "metadata": {},
     "output_type": "execute_result"
    }
   ],
   "source": [
    "np.allclose(tx, sx)"
   ]
  },
  {
   "cell_type": "markdown",
   "metadata": {},
   "source": [
    "compute the Jacobian and check it with sympy's version"
   ]
  },
  {
   "cell_type": "code",
   "execution_count": 18,
   "metadata": {},
   "outputs": [
    {
     "data": {
      "text/plain": [
       "<tf.Tensor: shape=(3, 2), dtype=float64, numpy=\n",
       "array([[ 0.16884622,  0.02771856],\n",
       "       [ 0.21503753, -0.08891605],\n",
       "       [-0.22681196,  0.16530489]])>"
      ]
     },
     "execution_count": 18,
     "metadata": {},
     "output_type": "execute_result"
    }
   ],
   "source": [
    "def get_jacobian(tW, tu, transformation):\n",
    "    with tf.GradientTape(persistent=True) as t:\n",
    "        tx, ts, ta = transformation(tW, tu)\n",
    "    tJ = t.jacobian(tx, tu)[:,0,:,0]\n",
    "    return tJ\n",
    "tJ = get_jacobian(tW, tu, transformation)\n",
    "tJ"
   ]
  },
  {
   "cell_type": "code",
   "execution_count": 19,
   "metadata": {},
   "outputs": [
    {
     "data": {
      "text/plain": [
       "array([[ 0.16884622,  0.02771856],\n",
       "       [ 0.21503753, -0.08891605],\n",
       "       [-0.22681196,  0.16530489]])"
      ]
     },
     "execution_count": 19,
     "metadata": {},
     "output_type": "execute_result"
    }
   ],
   "source": [
    "sJ = sy_eval(J, W, u, nW=tW.numpy(), nu=tu.numpy())\n",
    "sJ"
   ]
  },
  {
   "cell_type": "code",
   "execution_count": 20,
   "metadata": {},
   "outputs": [
    {
     "data": {
      "text/plain": [
       "True"
      ]
     },
     "execution_count": 20,
     "metadata": {},
     "output_type": "execute_result"
    }
   ],
   "source": [
    "np.allclose(sJ, tJ.numpy())"
   ]
  },
  {
   "cell_type": "markdown",
   "metadata": {},
   "source": [
    "## the metric tensor of the embeded surface or the projection produced by the transformation\n",
    "\n",
    "$$g_{\\alpha\\beta} = \\sum_{k=0}^2 J^k_\\alpha J^k_\\beta = \\mathbf{J}^T\\mathbf{J} $$\n"
   ]
  },
  {
   "cell_type": "markdown",
   "metadata": {},
   "source": [
    "observe that we must keep the sumation symbol since Einstein's convention does not kick in automatically over the $k$ index, due to the way the matrix multiplication with the transpose must be expressed:\n",
    "$$\n",
    "\\Bigg[\\begin{matrix}\n",
    "J^i_\\mu & J^j_\\mu & J^l_\\mu\\\\\n",
    "J^i_\\nu & J^j_\\nu & J^l_\\nu\\\\\n",
    "\\end{matrix}\\Bigg]\n",
    "\\times\n",
    "\\Bigg[\\begin{matrix}\n",
    "J^i_\\mu & J^i_\\nu \\\\\n",
    "J^j_\\mu & J^j_\\nu \\\\\n",
    "J^l_\\mu & J^l_\\nu \\\\\n",
    "\\end{matrix}\\Bigg]\n",
    "=\n",
    "\\Bigg[\\begin{matrix}\n",
    "J^i_\\mu J^i_\\mu+J^j_\\mu J^j_\\mu+J^l_\\mu J^l_\\mu & J^i_\\mu J^i_\\nu+J^j_\\mu J^j_\\nu+J^l_\\mu J^l_\\nu \\\\\n",
    "J^i_\\nu J^i_\\mu+J^j_\\nu J^j_\\mu+J^l_\\nu J^l_\\mu & J^i_\\nu J^i_\\nu+J^j_\\nu J^j_\\nu+J^l_\\nu J^l_\\nu \\\\\n",
    "\\end{matrix}\\Bigg]\n",
    "=\n",
    "\\sum_{k=0}^2 J^k_\\alpha J^k_\\beta\n",
    "$$\n",
    "\n",
    "for $\\alpha, \\beta \\in \\{\\mu, \\nu\\}$"
   ]
  },
  {
   "cell_type": "markdown",
   "metadata": {},
   "source": [
    "in this case\n",
    "\n",
    "\n",
    "$$g_{\\alpha\\beta} = \\sum_{k=0}^2 \\dot{\\text{a}}(s^k)^2 W^k_\\alpha W^k_\\beta$$"
   ]
  },
  {
   "cell_type": "code",
   "execution_count": 21,
   "metadata": {},
   "outputs": [
    {
     "data": {
      "image/png": "[encoded data removed]",
      "text/latex": [
       "$\\displaystyle \\left[ u_{0, 0}, \\  u_{1, 0}\\right]$"
      ],
      "text/plain": [
       "[u₀₀, u₁₀]"
      ]
     },
     "execution_count": 21,
     "metadata": {},
     "output_type": "execute_result"
    }
   ],
   "source": [
    "list(u)"
   ]
  },
  {
   "cell_type": "code",
   "execution_count": 22,
   "metadata": {
    "scrolled": true
   },
   "outputs": [
    {
     "data": {
      "text/latex": [
       "$\\displaystyle \\left[\\begin{matrix}\\frac{e^{- 2 W_{2, 0} u_{0, 0} - 2 W_{2, 1} u_{1, 0}} W_{2, 0}^{2}}{\\left(e^{- W_{2, 0} u_{0, 0} - W_{2, 1} u_{1, 0}} + 1\\right)^{4}} + \\frac{e^{- 2 W_{1, 0} u_{0, 0} - 2 W_{1, 1} u_{1, 0}} W_{1, 0}^{2}}{\\left(e^{- W_{1, 0} u_{0, 0} - W_{1, 1} u_{1, 0}} + 1\\right)^{4}} + \\frac{e^{- 2 W_{0, 0} u_{0, 0} - 2 W_{0, 1} u_{1, 0}} W_{0, 0}^{2}}{\\left(e^{- W_{0, 0} u_{0, 0} - W_{0, 1} u_{1, 0}} + 1\\right)^{4}} & \\frac{e^{- 2 W_{2, 0} u_{0, 0} - 2 W_{2, 1} u_{1, 0}} W_{2, 0} W_{2, 1}}{\\left(e^{- W_{2, 0} u_{0, 0} - W_{2, 1} u_{1, 0}} + 1\\right)^{4}} + \\frac{e^{- 2 W_{1, 0} u_{0, 0} - 2 W_{1, 1} u_{1, 0}} W_{1, 0} W_{1, 1}}{\\left(e^{- W_{1, 0} u_{0, 0} - W_{1, 1} u_{1, 0}} + 1\\right)^{4}} + \\frac{e^{- 2 W_{0, 0} u_{0, 0} - 2 W_{0, 1} u_{1, 0}} W_{0, 0} W_{0, 1}}{\\left(e^{- W_{0, 0} u_{0, 0} - W_{0, 1} u_{1, 0}} + 1\\right)^{4}}\\\\\\frac{e^{- 2 W_{2, 0} u_{0, 0} - 2 W_{2, 1} u_{1, 0}} W_{2, 0} W_{2, 1}}{\\left(e^{- W_{2, 0} u_{0, 0} - W_{2, 1} u_{1, 0}} + 1\\right)^{4}} + \\frac{e^{- 2 W_{1, 0} u_{0, 0} - 2 W_{1, 1} u_{1, 0}} W_{1, 0} W_{1, 1}}{\\left(e^{- W_{1, 0} u_{0, 0} - W_{1, 1} u_{1, 0}} + 1\\right)^{4}} + \\frac{e^{- 2 W_{0, 0} u_{0, 0} - 2 W_{0, 1} u_{1, 0}} W_{0, 0} W_{0, 1}}{\\left(e^{- W_{0, 0} u_{0, 0} - W_{0, 1} u_{1, 0}} + 1\\right)^{4}} & \\frac{e^{- 2 W_{2, 0} u_{0, 0} - 2 W_{2, 1} u_{1, 0}} W_{2, 1}^{2}}{\\left(e^{- W_{2, 0} u_{0, 0} - W_{2, 1} u_{1, 0}} + 1\\right)^{4}} + \\frac{e^{- 2 W_{1, 0} u_{0, 0} - 2 W_{1, 1} u_{1, 0}} W_{1, 1}^{2}}{\\left(e^{- W_{1, 0} u_{0, 0} - W_{1, 1} u_{1, 0}} + 1\\right)^{4}} + \\frac{e^{- 2 W_{0, 0} u_{0, 0} - 2 W_{0, 1} u_{1, 0}} W_{0, 1}^{2}}{\\left(e^{- W_{0, 0} u_{0, 0} - W_{0, 1} u_{1, 0}} + 1\\right)^{4}}\\end{matrix}\\right]$"
      ],
      "text/plain": [
       "⎡     -2⋅W₂₀⋅u₀₀ - 2⋅W₂₁⋅u₁₀    2    -2⋅W₁₀⋅u₀₀ - 2⋅W₁₁⋅u₁₀    2    -2⋅W₀₀⋅u₀₀\n",
       "⎢    ℯ                      ⋅W₂₀    ℯ                      ⋅W₁₀    ℯ          \n",
       "⎢    ──────────────────────────── + ──────────────────────────── + ───────────\n",
       "⎢                              4                              4               \n",
       "⎢     ⎛ -W₂₀⋅u₀₀ - W₂₁⋅u₁₀    ⎞      ⎛ -W₁₀⋅u₀₀ - W₁₁⋅u₁₀    ⎞      ⎛ -W₀₀⋅u₀₀\n",
       "⎢     ⎝ℯ                   + 1⎠      ⎝ℯ                   + 1⎠      ⎝ℯ        \n",
       "⎢                                                                             \n",
       "⎢ -2⋅W₂₀⋅u₀₀ - 2⋅W₂₁⋅u₁₀            -2⋅W₁₀⋅u₀₀ - 2⋅W₁₁⋅u₁₀            -2⋅W₀₀⋅u\n",
       "⎢ℯ                      ⋅W₂₀⋅W₂₁   ℯ                      ⋅W₁₀⋅W₁₁   ℯ        \n",
       "⎢─────────────────────────────── + ─────────────────────────────── + ─────────\n",
       "⎢                            4                                 4              \n",
       "⎢   ⎛ -W₂₀⋅u₀₀ - W₂₁⋅u₁₀    ⎞         ⎛ -W₁₀⋅u₀₀ - W₁₁⋅u₁₀    ⎞         ⎛ -W₀₀\n",
       "⎣   ⎝ℯ                   + 1⎠         ⎝ℯ                   + 1⎠         ⎝ℯ    \n",
       "\n",
       " - 2⋅W₀₁⋅u₁₀    2        -2⋅W₂₀⋅u₀₀ - 2⋅W₂₁⋅u₁₀            -2⋅W₁₀⋅u₀₀ - 2⋅W₁₁⋅\n",
       "            ⋅W₀₀        ℯ                      ⋅W₂₀⋅W₂₁   ℯ                   \n",
       "─────────────────       ─────────────────────────────── + ────────────────────\n",
       "               4                                    4                         \n",
       " - W₀₁⋅u₁₀    ⎞            ⎛ -W₂₀⋅u₀₀ - W₂₁⋅u₁₀    ⎞         ⎛ -W₁₀⋅u₀₀ - W₁₁⋅\n",
       "           + 1⎠            ⎝ℯ                   + 1⎠         ⎝ℯ               \n",
       "                                                                              \n",
       "₀₀ - 2⋅W₀₁⋅u₁₀               -2⋅W₂₀⋅u₀₀ - 2⋅W₂₁⋅u₁₀    2    -2⋅W₁₀⋅u₀₀ - 2⋅W₁₁\n",
       "              ⋅W₀₀⋅W₀₁      ℯ                      ⋅W₂₁    ℯ                  \n",
       "──────────────────────      ──────────────────────────── + ───────────────────\n",
       "                   4                                  4                       \n",
       "⋅u₀₀ - W₀₁⋅u₁₀    ⎞          ⎛ -W₂₀⋅u₀₀ - W₂₁⋅u₁₀    ⎞      ⎛ -W₁₀⋅u₀₀ - W₁₁⋅u\n",
       "               + 1⎠          ⎝ℯ                   + 1⎠      ⎝ℯ                \n",
       "\n",
       "u₁₀            -2⋅W₀₀⋅u₀₀ - 2⋅W₀₁⋅u₁₀        ⎤\n",
       "   ⋅W₁₀⋅W₁₁   ℯ                      ⋅W₀₀⋅W₀₁⎥\n",
       "─────────── + ───────────────────────────────⎥\n",
       "        4                                 4  ⎥\n",
       "u₁₀    ⎞         ⎛ -W₀₀⋅u₀₀ - W₀₁⋅u₁₀    ⎞   ⎥\n",
       "    + 1⎠         ⎝ℯ                   + 1⎠   ⎥\n",
       "                                             ⎥\n",
       "⋅u₁₀    2    -2⋅W₀₀⋅u₀₀ - 2⋅W₀₁⋅u₁₀    2     ⎥\n",
       "    ⋅W₁₁    ℯ                      ⋅W₀₁      ⎥\n",
       "───────── + ────────────────────────────     ⎥\n",
       "       4                              4      ⎥\n",
       "₁₀    ⎞      ⎛ -W₀₀⋅u₀₀ - W₀₁⋅u₁₀    ⎞       ⎥\n",
       "   + 1⎠      ⎝ℯ                   + 1⎠       ⎦"
      ]
     },
     "execution_count": 22,
     "metadata": {},
     "output_type": "execute_result"
    }
   ],
   "source": [
    "mt = MetricTensor(sy.Array(J.T*J), list(u))\n",
    "mt.tensor()"
   ]
  },
  {
   "cell_type": "code",
   "execution_count": 23,
   "metadata": {},
   "outputs": [
    {
     "data": {
      "image/png": "[encoded data removed]",
      "text/latex": [
       "$\\displaystyle \\frac{e^{- 2 W_{2, 0} u_{0, 0} - 2 W_{2, 1} u_{1, 0}} W_{2, 0}^{2}}{\\left(e^{- W_{2, 0} u_{0, 0} - W_{2, 1} u_{1, 0}} + 1\\right)^{4}} + \\frac{e^{- 2 W_{1, 0} u_{0, 0} - 2 W_{1, 1} u_{1, 0}} W_{1, 0}^{2}}{\\left(e^{- W_{1, 0} u_{0, 0} - W_{1, 1} u_{1, 0}} + 1\\right)^{4}} + \\frac{e^{- 2 W_{0, 0} u_{0, 0} - 2 W_{0, 1} u_{1, 0}} W_{0, 0}^{2}}{\\left(e^{- W_{0, 0} u_{0, 0} - W_{0, 1} u_{1, 0}} + 1\\right)^{4}}$"
      ],
      "text/plain": [
       " -2⋅W₂₀⋅u₀₀ - 2⋅W₂₁⋅u₁₀    2    -2⋅W₁₀⋅u₀₀ - 2⋅W₁₁⋅u₁₀    2    -2⋅W₀₀⋅u₀₀ - 2⋅\n",
       "ℯ                      ⋅W₂₀    ℯ                      ⋅W₁₀    ℯ               \n",
       "──────────────────────────── + ──────────────────────────── + ────────────────\n",
       "                          4                              4                    \n",
       " ⎛ -W₂₀⋅u₀₀ - W₂₁⋅u₁₀    ⎞      ⎛ -W₁₀⋅u₀₀ - W₁₁⋅u₁₀    ⎞      ⎛ -W₀₀⋅u₀₀ - W₀\n",
       " ⎝ℯ                   + 1⎠      ⎝ℯ                   + 1⎠      ⎝ℯ             \n",
       "\n",
       "W₀₁⋅u₁₀    2\n",
       "       ⋅W₀₀ \n",
       "────────────\n",
       "          4 \n",
       "₁⋅u₁₀    ⎞  \n",
       "      + 1⎠  "
      ]
     },
     "execution_count": 23,
     "metadata": {},
     "output_type": "execute_result"
    }
   ],
   "source": [
    "mt[0,0]"
   ]
  },
  {
   "cell_type": "markdown",
   "metadata": {},
   "source": [
    "Metric tensor from sympy's Jacbians"
   ]
  },
  {
   "cell_type": "code",
   "execution_count": 24,
   "metadata": {},
   "outputs": [
    {
     "data": {
      "text/plain": [
       "array([[ 0.12619385, -0.05193324],\n",
       "       [-0.05193324,  0.03600009]])"
      ]
     },
     "execution_count": 24,
     "metadata": {},
     "output_type": "execute_result"
    }
   ],
   "source": [
    "sG = np.r_[[sy_eval(mt[alpha, beta], W, u, nW=tW.numpy(), nu=tu.numpy()) for alpha, beta in itertools.product(range(dim_u), range(dim_u))]].reshape(dim_u,dim_u)\n",
    "sG"
   ]
  },
  {
   "cell_type": "markdown",
   "metadata": {},
   "source": [
    "Metric tensor from tensorflow Jacobians"
   ]
  },
  {
   "cell_type": "code",
   "execution_count": 25,
   "metadata": {},
   "outputs": [],
   "source": [
    "def get_metric_tensor(tW, tu, transformation):\n",
    "    with tf.GradientTape(persistent=True) as t:\n",
    "        tx, ts, ta = transformation(tW, tu)\n",
    "    tJ = t.jacobian(tx, tu)[:,0,:,0]\n",
    "    tG = tf.matmul(tf.transpose(tJ), tJ)\n",
    "\n",
    "    return tG"
   ]
  },
  {
   "cell_type": "code",
   "execution_count": 26,
   "metadata": {},
   "outputs": [
    {
     "data": {
      "text/plain": [
       "<tf.Tensor: shape=(2, 2), dtype=float64, numpy=\n",
       "array([[ 0.12619385, -0.05193324],\n",
       "       [-0.05193324,  0.03600009]])>"
      ]
     },
     "execution_count": 26,
     "metadata": {},
     "output_type": "execute_result"
    }
   ],
   "source": [
    "tG = get_metric_tensor(tW, tu, transformation)\n",
    "tG"
   ]
  },
  {
   "cell_type": "markdown",
   "metadata": {},
   "source": [
    "Metric tensor by directly applying $g_{\\alpha\\beta} = \\sum_{k=0}^2 \\dot{\\text{a}}(s^k)^2 W^k_\\alpha W^k_\\beta$ in tensorflow"
   ]
  },
  {
   "cell_type": "code",
   "execution_count": 27,
   "metadata": {},
   "outputs": [],
   "source": [
    "def get_metric_tensor_PERCEPTRON(tW, tu, transformation):\n",
    "    with tf.GradientTape(persistent=True) as t:\n",
    "        tx, ts, ta = transformation(tW, tu)\n",
    "\n",
    "    mG = np.r_[[[tf.reduce_sum(t.gradient(tx, ts)**2 * tW[:,alpha:alpha+1] * tW[:,beta:beta+1]).numpy() for alpha in range(dim_u)] for beta in range(dim_u)]]\n",
    "\n",
    "    return mG"
   ]
  },
  {
   "cell_type": "code",
   "execution_count": 28,
   "metadata": {},
   "outputs": [
    {
     "data": {
      "text/plain": [
       "array([[ 0.12619385, -0.05193324],\n",
       "       [-0.05193324,  0.03600009]])"
      ]
     },
     "execution_count": 28,
     "metadata": {},
     "output_type": "execute_result"
    }
   ],
   "source": [
    "mG = get_metric_tensor_PERCEPTRON(tW, tu, transformation)\n",
    "mG"
   ]
  },
  {
   "cell_type": "code",
   "execution_count": 29,
   "metadata": {},
   "outputs": [
    {
     "data": {
      "text/plain": [
       "(True, True)"
      ]
     },
     "execution_count": 29,
     "metadata": {},
     "output_type": "execute_result"
    }
   ],
   "source": [
    "np.allclose(sG, tG.numpy()), np.allclose(tG.numpy(), mG)"
   ]
  },
  {
   "cell_type": "code",
   "execution_count": null,
   "metadata": {},
   "outputs": [],
   "source": []
  },
  {
   "cell_type": "markdown",
   "metadata": {},
   "source": [
    "### the inverse metric tensor"
   ]
  },
  {
   "cell_type": "code",
   "execution_count": 30,
   "metadata": {},
   "outputs": [
    {
     "data": {
      "text/plain": [
       "<tf.Tensor: shape=(2, 2), dtype=float64, numpy=\n",
       "array([[19.50242854, 28.13393853],\n",
       "       [28.13393853, 68.36334741]])>"
      ]
     },
     "execution_count": 30,
     "metadata": {},
     "output_type": "execute_result"
    }
   ],
   "source": [
    "tG_ = tf.linalg.pinv(tG)\n",
    "tG_"
   ]
  },
  {
   "cell_type": "markdown",
   "metadata": {},
   "source": [
    "check they are inverses from each other"
   ]
  },
  {
   "cell_type": "code",
   "execution_count": 31,
   "metadata": {},
   "outputs": [
    {
     "data": {
      "text/plain": [
       "True"
      ]
     },
     "execution_count": 31,
     "metadata": {},
     "output_type": "execute_result"
    }
   ],
   "source": [
    "np.allclose(tG.numpy().dot(tG_.numpy()), np.eye(tG_.shape[0]))"
   ]
  },
  {
   "cell_type": "code",
   "execution_count": null,
   "metadata": {},
   "outputs": [],
   "source": []
  },
  {
   "cell_type": "markdown",
   "metadata": {},
   "source": [
    "## the Hessian\n",
    "\n",
    "$$H^i_{\\alpha \\beta} = \\frac{\\partial x^i}{\\partial u^\\alpha \\partial u^\\beta} = \\frac{\\partial}{\\partial u^\\alpha}J^i_\\beta$$\n",
    "\n",
    "In this case:\n",
    "\n",
    "$$\\begin{align*}\n",
    "\\frac{\\partial x^i}{\\partial u^\\alpha \\partial u^\\beta} =& \\frac{\\partial }{\\partial u^\\alpha}\\Big[\\dot{\\text{a}}(s^i) W^i_\\beta\\Big] \\\\\n",
    " =& \\frac{\\partial }{\\partial u^\\alpha}\\Big[\\dot{\\text{a}}(s^i)\\Big] W^i_\\beta + \\dot{\\text{a}}(s^i)\\frac{\\partial }{\\partial u^\\alpha}\\Big[W^i_\\beta\\Big]\\\\\n",
    " =&\\frac{\\partial\\dot{\\text{a}}(s^i) }{\\partial s^i}\\frac{\\partial s^i}{\\partial u_\\alpha} W^i_\\beta\\\\\n",
    " =&\\ddot{\\text{a}}(s^i) W^i_\\alpha W^i_\\beta \n",
    "\\end{align*}$$\n"
   ]
  },
  {
   "cell_type": "code",
   "execution_count": 32,
   "metadata": {},
   "outputs": [
    {
     "data": {
      "text/latex": [
       "$\\displaystyle \\left[\\begin{matrix}\\left[ - \\frac{e^{- W_{0, 0} u_{0, 0} - W_{0, 1} u_{1, 0}} W_{0, 0}^{2}}{\\left(e^{- W_{0, 0} u_{0, 0} - W_{0, 1} u_{1, 0}} + 1\\right)^{2}} + \\frac{2 e^{- 2 W_{0, 0} u_{0, 0} - 2 W_{0, 1} u_{1, 0}} W_{0, 0}^{2}}{\\left(e^{- W_{0, 0} u_{0, 0} - W_{0, 1} u_{1, 0}} + 1\\right)^{3}}, \\  - \\frac{e^{- W_{0, 0} u_{0, 0} - W_{0, 1} u_{1, 0}} W_{0, 0} W_{0, 1}}{\\left(e^{- W_{0, 0} u_{0, 0} - W_{0, 1} u_{1, 0}} + 1\\right)^{2}} + \\frac{2 e^{- 2 W_{0, 0} u_{0, 0} - 2 W_{0, 1} u_{1, 0}} W_{0, 0} W_{0, 1}}{\\left(e^{- W_{0, 0} u_{0, 0} - W_{0, 1} u_{1, 0}} + 1\\right)^{3}}\\right] & \\left[ - \\frac{e^{- W_{0, 0} u_{0, 0} - W_{0, 1} u_{1, 0}} W_{0, 0} W_{0, 1}}{\\left(e^{- W_{0, 0} u_{0, 0} - W_{0, 1} u_{1, 0}} + 1\\right)^{2}} + \\frac{2 e^{- 2 W_{0, 0} u_{0, 0} - 2 W_{0, 1} u_{1, 0}} W_{0, 0} W_{0, 1}}{\\left(e^{- W_{0, 0} u_{0, 0} - W_{0, 1} u_{1, 0}} + 1\\right)^{3}}, \\  - \\frac{e^{- W_{0, 0} u_{0, 0} - W_{0, 1} u_{1, 0}} W_{0, 1}^{2}}{\\left(e^{- W_{0, 0} u_{0, 0} - W_{0, 1} u_{1, 0}} + 1\\right)^{2}} + \\frac{2 e^{- 2 W_{0, 0} u_{0, 0} - 2 W_{0, 1} u_{1, 0}} W_{0, 1}^{2}}{\\left(e^{- W_{0, 0} u_{0, 0} - W_{0, 1} u_{1, 0}} + 1\\right)^{3}}\\right]\\\\\\left[ - \\frac{e^{- W_{1, 0} u_{0, 0} - W_{1, 1} u_{1, 0}} W_{1, 0}^{2}}{\\left(e^{- W_{1, 0} u_{0, 0} - W_{1, 1} u_{1, 0}} + 1\\right)^{2}} + \\frac{2 e^{- 2 W_{1, 0} u_{0, 0} - 2 W_{1, 1} u_{1, 0}} W_{1, 0}^{2}}{\\left(e^{- W_{1, 0} u_{0, 0} - W_{1, 1} u_{1, 0}} + 1\\right)^{3}}, \\  - \\frac{e^{- W_{1, 0} u_{0, 0} - W_{1, 1} u_{1, 0}} W_{1, 0} W_{1, 1}}{\\left(e^{- W_{1, 0} u_{0, 0} - W_{1, 1} u_{1, 0}} + 1\\right)^{2}} + \\frac{2 e^{- 2 W_{1, 0} u_{0, 0} - 2 W_{1, 1} u_{1, 0}} W_{1, 0} W_{1, 1}}{\\left(e^{- W_{1, 0} u_{0, 0} - W_{1, 1} u_{1, 0}} + 1\\right)^{3}}\\right] & \\left[ - \\frac{e^{- W_{1, 0} u_{0, 0} - W_{1, 1} u_{1, 0}} W_{1, 0} W_{1, 1}}{\\left(e^{- W_{1, 0} u_{0, 0} - W_{1, 1} u_{1, 0}} + 1\\right)^{2}} + \\frac{2 e^{- 2 W_{1, 0} u_{0, 0} - 2 W_{1, 1} u_{1, 0}} W_{1, 0} W_{1, 1}}{\\left(e^{- W_{1, 0} u_{0, 0} - W_{1, 1} u_{1, 0}} + 1\\right)^{3}}, \\  - \\frac{e^{- W_{1, 0} u_{0, 0} - W_{1, 1} u_{1, 0}} W_{1, 1}^{2}}{\\left(e^{- W_{1, 0} u_{0, 0} - W_{1, 1} u_{1, 0}} + 1\\right)^{2}} + \\frac{2 e^{- 2 W_{1, 0} u_{0, 0} - 2 W_{1, 1} u_{1, 0}} W_{1, 1}^{2}}{\\left(e^{- W_{1, 0} u_{0, 0} - W_{1, 1} u_{1, 0}} + 1\\right)^{3}}\\right]\\\\\\left[ - \\frac{e^{- W_{2, 0} u_{0, 0} - W_{2, 1} u_{1, 0}} W_{2, 0}^{2}}{\\left(e^{- W_{2, 0} u_{0, 0} - W_{2, 1} u_{1, 0}} + 1\\right)^{2}} + \\frac{2 e^{- 2 W_{2, 0} u_{0, 0} - 2 W_{2, 1} u_{1, 0}} W_{2, 0}^{2}}{\\left(e^{- W_{2, 0} u_{0, 0} - W_{2, 1} u_{1, 0}} + 1\\right)^{3}}, \\  - \\frac{e^{- W_{2, 0} u_{0, 0} - W_{2, 1} u_{1, 0}} W_{2, 0} W_{2, 1}}{\\left(e^{- W_{2, 0} u_{0, 0} - W_{2, 1} u_{1, 0}} + 1\\right)^{2}} + \\frac{2 e^{- 2 W_{2, 0} u_{0, 0} - 2 W_{2, 1} u_{1, 0}} W_{2, 0} W_{2, 1}}{\\left(e^{- W_{2, 0} u_{0, 0} - W_{2, 1} u_{1, 0}} + 1\\right)^{3}}\\right] & \\left[ - \\frac{e^{- W_{2, 0} u_{0, 0} - W_{2, 1} u_{1, 0}} W_{2, 0} W_{2, 1}}{\\left(e^{- W_{2, 0} u_{0, 0} - W_{2, 1} u_{1, 0}} + 1\\right)^{2}} + \\frac{2 e^{- 2 W_{2, 0} u_{0, 0} - 2 W_{2, 1} u_{1, 0}} W_{2, 0} W_{2, 1}}{\\left(e^{- W_{2, 0} u_{0, 0} - W_{2, 1} u_{1, 0}} + 1\\right)^{3}}, \\  - \\frac{e^{- W_{2, 0} u_{0, 0} - W_{2, 1} u_{1, 0}} W_{2, 1}^{2}}{\\left(e^{- W_{2, 0} u_{0, 0} - W_{2, 1} u_{1, 0}} + 1\\right)^{2}} + \\frac{2 e^{- 2 W_{2, 0} u_{0, 0} - 2 W_{2, 1} u_{1, 0}} W_{2, 1}^{2}}{\\left(e^{- W_{2, 0} u_{0, 0} - W_{2, 1} u_{1, 0}} + 1\\right)^{3}}\\right]\\end{matrix}\\right]$"
      ],
      "text/plain": [
       "⎡⎡    -W₀₀⋅u₀₀ - W₀₁⋅u₁₀    2       -2⋅W₀₀⋅u₀₀ - 2⋅W₀₁⋅u₁₀    2     -W₀₀⋅u₀₀ -\n",
       "⎢⎢   ℯ                  ⋅W₀₀     2⋅ℯ                      ⋅W₀₀     ℯ          \n",
       "⎢⎢- ────────────────────────── + ──────────────────────────────, - ───────────\n",
       "⎢⎢                           2                              3                 \n",
       "⎢⎢  ⎛ -W₀₀⋅u₀₀ - W₀₁⋅u₁₀    ⎞      ⎛ -W₀₀⋅u₀₀ - W₀₁⋅u₁₀    ⎞        ⎛ -W₀₀⋅u₀₀\n",
       "⎢⎣  ⎝ℯ                   + 1⎠      ⎝ℯ                   + 1⎠        ⎝ℯ        \n",
       "⎢                                                                             \n",
       "⎢⎡    -W₁₀⋅u₀₀ - W₁₁⋅u₁₀    2       -2⋅W₁₀⋅u₀₀ - 2⋅W₁₁⋅u₁₀    2     -W₁₀⋅u₀₀ -\n",
       "⎢⎢   ℯ                  ⋅W₁₀     2⋅ℯ                      ⋅W₁₀     ℯ          \n",
       "⎢⎢- ────────────────────────── + ──────────────────────────────, - ───────────\n",
       "⎢⎢                           2                              3                 \n",
       "⎢⎢  ⎛ -W₁₀⋅u₀₀ - W₁₁⋅u₁₀    ⎞      ⎛ -W₁₀⋅u₀₀ - W₁₁⋅u₁₀    ⎞        ⎛ -W₁₀⋅u₀₀\n",
       "⎢⎣  ⎝ℯ                   + 1⎠      ⎝ℯ                   + 1⎠        ⎝ℯ        \n",
       "⎢                                                                             \n",
       "⎢⎡    -W₂₀⋅u₀₀ - W₂₁⋅u₁₀    2       -2⋅W₂₀⋅u₀₀ - 2⋅W₂₁⋅u₁₀    2     -W₂₀⋅u₀₀ -\n",
       "⎢⎢   ℯ                  ⋅W₂₀     2⋅ℯ                      ⋅W₂₀     ℯ          \n",
       "⎢⎢- ────────────────────────── + ──────────────────────────────, - ───────────\n",
       "⎢⎢                           2                              3                 \n",
       "⎢⎢  ⎛ -W₂₀⋅u₀₀ - W₂₁⋅u₁₀    ⎞      ⎛ -W₂₀⋅u₀₀ - W₂₁⋅u₁₀    ⎞        ⎛ -W₂₀⋅u₀₀\n",
       "⎣⎣  ⎝ℯ                   + 1⎠      ⎝ℯ                   + 1⎠        ⎝ℯ        \n",
       "\n",
       " W₀₁⋅u₁₀              -2⋅W₀₀⋅u₀₀ - 2⋅W₀₁⋅u₁₀        ⎤  ⎡   -W₀₀⋅u₀₀ - W₀₁⋅u₁₀ \n",
       "        ⋅W₀₀⋅W₀₁   2⋅ℯ                      ⋅W₀₀⋅W₀₁⎥  ⎢  ℯ                  ⋅\n",
       "──────────────── + ─────────────────────────────────⎥  ⎢- ────────────────────\n",
       "               2                                3   ⎥  ⎢                      \n",
       " - W₀₁⋅u₁₀    ⎞        ⎛ -W₀₀⋅u₀₀ - W₀₁⋅u₁₀    ⎞    ⎥  ⎢   ⎛ -W₀₀⋅u₀₀ - W₀₁⋅u₁\n",
       "           + 1⎠        ⎝ℯ                   + 1⎠    ⎦  ⎣   ⎝ℯ                 \n",
       "                                                                              \n",
       " W₁₁⋅u₁₀              -2⋅W₁₀⋅u₀₀ - 2⋅W₁₁⋅u₁₀        ⎤  ⎡   -W₁₀⋅u₀₀ - W₁₁⋅u₁₀ \n",
       "        ⋅W₁₀⋅W₁₁   2⋅ℯ                      ⋅W₁₀⋅W₁₁⎥  ⎢  ℯ                  ⋅\n",
       "──────────────── + ─────────────────────────────────⎥  ⎢- ────────────────────\n",
       "               2                                3   ⎥  ⎢                      \n",
       " - W₁₁⋅u₁₀    ⎞        ⎛ -W₁₀⋅u₀₀ - W₁₁⋅u₁₀    ⎞    ⎥  ⎢   ⎛ -W₁₀⋅u₀₀ - W₁₁⋅u₁\n",
       "           + 1⎠        ⎝ℯ                   + 1⎠    ⎦  ⎣   ⎝ℯ                 \n",
       "                                                                              \n",
       " W₂₁⋅u₁₀              -2⋅W₂₀⋅u₀₀ - 2⋅W₂₁⋅u₁₀        ⎤  ⎡   -W₂₀⋅u₀₀ - W₂₁⋅u₁₀ \n",
       "        ⋅W₂₀⋅W₂₁   2⋅ℯ                      ⋅W₂₀⋅W₂₁⎥  ⎢  ℯ                  ⋅\n",
       "──────────────── + ─────────────────────────────────⎥  ⎢- ────────────────────\n",
       "               2                                3   ⎥  ⎢                      \n",
       " - W₂₁⋅u₁₀    ⎞        ⎛ -W₂₀⋅u₀₀ - W₂₁⋅u₁₀    ⎞    ⎥  ⎢   ⎛ -W₂₀⋅u₀₀ - W₂₁⋅u₁\n",
       "           + 1⎠        ⎝ℯ                   + 1⎠    ⎦  ⎣   ⎝ℯ                 \n",
       "\n",
       "             -2⋅W₀₀⋅u₀₀ - 2⋅W₀₁⋅u₁₀              -W₀₀⋅u₀₀ - W₀₁⋅u₁₀    2      \n",
       "W₀₀⋅W₀₁   2⋅ℯ                      ⋅W₀₀⋅W₀₁     ℯ                  ⋅W₀₁     2⋅\n",
       "─────── + ─────────────────────────────────, - ────────────────────────── + ──\n",
       "      2                                3                                2     \n",
       "₀    ⎞        ⎛ -W₀₀⋅u₀₀ - W₀₁⋅u₁₀    ⎞        ⎛ -W₀₀⋅u₀₀ - W₀₁⋅u₁₀    ⎞      \n",
       "  + 1⎠        ⎝ℯ                   + 1⎠        ⎝ℯ                   + 1⎠      \n",
       "                                                                              \n",
       "             -2⋅W₁₀⋅u₀₀ - 2⋅W₁₁⋅u₁₀              -W₁₀⋅u₀₀ - W₁₁⋅u₁₀    2      \n",
       "W₁₀⋅W₁₁   2⋅ℯ                      ⋅W₁₀⋅W₁₁     ℯ                  ⋅W₁₁     2⋅\n",
       "─────── + ─────────────────────────────────, - ────────────────────────── + ──\n",
       "      2                                3                                2     \n",
       "₀    ⎞        ⎛ -W₁₀⋅u₀₀ - W₁₁⋅u₁₀    ⎞        ⎛ -W₁₀⋅u₀₀ - W₁₁⋅u₁₀    ⎞      \n",
       "  + 1⎠        ⎝ℯ                   + 1⎠        ⎝ℯ                   + 1⎠      \n",
       "                                                                              \n",
       "             -2⋅W₂₀⋅u₀₀ - 2⋅W₂₁⋅u₁₀              -W₂₀⋅u₀₀ - W₂₁⋅u₁₀    2      \n",
       "W₂₀⋅W₂₁   2⋅ℯ                      ⋅W₂₀⋅W₂₁     ℯ                  ⋅W₂₁     2⋅\n",
       "─────── + ─────────────────────────────────, - ────────────────────────── + ──\n",
       "      2                                3                                2     \n",
       "₀    ⎞        ⎛ -W₂₀⋅u₀₀ - W₂₁⋅u₁₀    ⎞        ⎛ -W₂₀⋅u₀₀ - W₂₁⋅u₁₀    ⎞      \n",
       "  + 1⎠        ⎝ℯ                   + 1⎠        ⎝ℯ                   + 1⎠      \n",
       "\n",
       " -2⋅W₀₀⋅u₀₀ - 2⋅W₀₁⋅u₁₀    2⎤⎤\n",
       "ℯ                      ⋅W₀₁ ⎥⎥\n",
       "────────────────────────────⎥⎥\n",
       "                         3  ⎥⎥\n",
       "⎛ -W₀₀⋅u₀₀ - W₀₁⋅u₁₀    ⎞   ⎥⎥\n",
       "⎝ℯ                   + 1⎠   ⎦⎥\n",
       "                             ⎥\n",
       " -2⋅W₁₀⋅u₀₀ - 2⋅W₁₁⋅u₁₀    2⎤⎥\n",
       "ℯ                      ⋅W₁₁ ⎥⎥\n",
       "────────────────────────────⎥⎥\n",
       "                         3  ⎥⎥\n",
       "⎛ -W₁₀⋅u₀₀ - W₁₁⋅u₁₀    ⎞   ⎥⎥\n",
       "⎝ℯ                   + 1⎠   ⎦⎥\n",
       "                             ⎥\n",
       " -2⋅W₂₀⋅u₀₀ - 2⋅W₂₁⋅u₁₀    2⎤⎥\n",
       "ℯ                      ⋅W₂₁ ⎥⎥\n",
       "────────────────────────────⎥⎥\n",
       "                         3  ⎥⎥\n",
       "⎛ -W₂₀⋅u₀₀ - W₂₁⋅u₁₀    ⎞   ⎥⎥\n",
       "⎝ℯ                   + 1⎠   ⎦⎦"
      ]
     },
     "execution_count": 32,
     "metadata": {},
     "output_type": "execute_result"
    }
   ],
   "source": [
    "H = sy.Matrix([[[J[i ,alpha].diff(u[beta,0]) for alpha in range(dim_u)] for beta in range(dim_u)] for i in range(dim_x)])\n",
    "H"
   ]
  },
  {
   "cell_type": "code",
   "execution_count": 33,
   "metadata": {},
   "outputs": [
    {
     "data": {
      "text/plain": [
       "array([[[ 0.03468516,  0.00569407],\n",
       "        [ 0.00569407,  0.00093476]],\n",
       "\n",
       "       [[ 0.10130854, -0.04189015],\n",
       "        [-0.04189015,  0.01732119]],\n",
       "\n",
       "       [[-0.34631993,  0.25240458],\n",
       "        [ 0.25240458, -0.18395728]]])"
      ]
     },
     "execution_count": 33,
     "metadata": {},
     "output_type": "execute_result"
    }
   ],
   "source": [
    "sH= np.r_[[[[sy_eval(H[i,alpha][beta], W, u, nW=tW.numpy(), nu=tu.numpy())[0] for i in range(dim_x)] for alpha in range(dim_u)] for beta in range(dim_u)]].astype(float).T\n",
    "sH"
   ]
  },
  {
   "cell_type": "markdown",
   "metadata": {},
   "source": [
    "now in tensorflow"
   ]
  },
  {
   "cell_type": "code",
   "execution_count": 34,
   "metadata": {},
   "outputs": [],
   "source": [
    "@tf.function\n",
    "def get_hessian(tW, tu, transformation):\n",
    "    with tf.GradientTape(persistent=True) as t1:\n",
    "        with tf.GradientTape(persistent=True) as t2:\n",
    "            tx, ts, ta = transformation(tW, tu)\n",
    "        _tJ = t2.jacobian(tx, tu)[:,0,:,0]\n",
    "    tH = t1.jacobian(_tJ, tu)[:,:,:,0]\n",
    "    return tH"
   ]
  },
  {
   "cell_type": "code",
   "execution_count": null,
   "metadata": {},
   "outputs": [],
   "source": []
  },
  {
   "cell_type": "code",
   "execution_count": 35,
   "metadata": {},
   "outputs": [
    {
     "data": {
      "text/plain": [
       "<tf.Tensor: shape=(3, 2, 2), dtype=float64, numpy=\n",
       "array([[[ 0.03468516,  0.00569407],\n",
       "        [ 0.00569407,  0.00093476]],\n",
       "\n",
       "       [[ 0.10130854, -0.04189015],\n",
       "        [-0.04189015,  0.01732119]],\n",
       "\n",
       "       [[-0.34631993,  0.25240458],\n",
       "        [ 0.25240458, -0.18395728]]])>"
      ]
     },
     "execution_count": 35,
     "metadata": {},
     "output_type": "execute_result"
    }
   ],
   "source": [
    "tH = get_hessian(tW, tu, transformation)\n",
    "tH"
   ]
  },
  {
   "cell_type": "code",
   "execution_count": 36,
   "metadata": {},
   "outputs": [
    {
     "data": {
      "text/plain": [
       "True"
      ]
     },
     "execution_count": 36,
     "metadata": {},
     "output_type": "execute_result"
    }
   ],
   "source": [
    "np.allclose (tH.numpy(), sH)"
   ]
  },
  {
   "cell_type": "markdown",
   "metadata": {},
   "source": [
    "### the christoffel symbols\n",
    "\n",
    "\n",
    "$$\\Gamma^\\beta_{\\mu\\nu} = \\frac{1}{2}g^{\\beta\\alpha}\\Bigg(\\frac{\\partial g_{\\alpha\\mu}}{\\partial u^\\nu} + \\frac{\\partial g_{\\alpha\\nu}}{\\partial u^\\mu} - \\frac{\\partial g_{\\mu\\nu}}{\\partial u^\\alpha}  \\Bigg)$$\n",
    "\n",
    "\n",
    "\n",
    "$$\\begin{align}\n",
    "\\text{The Metric Tensor}\\;\\;\\;: \\;\\;\\;&g_{\\alpha\\beta} &= \\;\\;\\;& \\sum_{k=0}^2 \\dot{\\text{a}}(s^k)^2 W^k_\\alpha W^k_\\beta\n",
    "\\end{align}$$\n",
    "\n"
   ]
  },
  {
   "cell_type": "markdown",
   "metadata": {},
   "source": [
    "$$\\frac{\\partial g_{\\alpha\\beta}}{\\partial u^\\gamma} =  \\sum_{k=0}^2 2\\dot{\\text{a}}(s^k)\\ddot{\\text{a}}(s^k) W^k_\\alpha W^k_\\beta W^k_\\gamma$$"
   ]
  },
  {
   "cell_type": "code",
   "execution_count": 37,
   "metadata": {},
   "outputs": [
    {
     "data": {
      "text/plain": [
       "<tf.Tensor: shape=(3, 1), dtype=float64, numpy=\n",
       "array([[-0.5759448 ],\n",
       "       [-0.94727428],\n",
       "       [ 1.92824448]])>"
      ]
     },
     "execution_count": 37,
     "metadata": {},
     "output_type": "execute_result"
    }
   ],
   "source": [
    "ts"
   ]
  },
  {
   "cell_type": "code",
   "execution_count": null,
   "metadata": {},
   "outputs": [],
   "source": []
  },
  {
   "cell_type": "code",
   "execution_count": 38,
   "metadata": {},
   "outputs": [],
   "source": [
    "# del(get_christoffel_symbols_v1)\n",
    "# del(get_christoffel_symbols_v2)\n",
    "#            tx, ts, ta = transformation(tW, tu)\n",
    "\n",
    "i,j,k = tf.Variable(-1), tf.Variable(-1), tf.Variable(-1)\n",
    "\n",
    "@tf.function\n",
    "def get_christoffel_symbol(tg_, tdg_du, i, j ,k):\n",
    "    return 0.5*tf.reduce_sum([tg_[i,a]*(tdg_du[k,a,j] + tdg_du[j,a,k] - tdg_du[k,j,a]) for a in range(tg_.shape[0])])    \n",
    "\n",
    "@tf.function\n",
    "def get_christoffel_symbols(tW, tu, transformation):   \n",
    "    # using TF's full symbolic engine \n",
    "    with tf.GradientTape(persistent=True) as gtape2:\n",
    "        with tf.GradientTape(persistent=True) as gtape1:\n",
    "            tx, _, _ = transformation(tW, tu)\n",
    "\n",
    "        tJ = gtape1.jacobian(tx, tu)[:,0,:,0]\n",
    "\n",
    "        tg = tf.matmul(tf.transpose(tJ), tJ)\n",
    "        tg_ = tf.linalg.inv(tg)   \n",
    "        \n",
    "    # let TF compute the derivatives of the metric tensor wrt source variables\n",
    "    tdg_du = gtape2.jacobian(tg, tu)[:,:,:,0]\n",
    "\n",
    "    r = []\n",
    "    for vi,vj,vk in itertools.product(*[list(range(u.shape[0]))]*3):\n",
    "        i.assign(vi)\n",
    "        j.assign(vj)\n",
    "        k.assign(vk)\n",
    "        r.append(get_christoffel_symbol(tg_, tdg_du, i, j, k))\n",
    "    \n",
    "    return tf.reshape(r, [tu.shape[0]]*3)\n",
    "\n",
    "@tf.function\n",
    "def get_christoffel_symbols_PERCEPTRON(tW, tu, transformation):   \n",
    "    # using the perceptron expressions for the derivative of the metric tensor\n",
    "    # which just require the first and second derivatives of the activation function\n",
    "    with tf.GradientTape(persistent=True) as gtape2:\n",
    "\n",
    "        with tf.GradientTape(persistent=True) as gtape1:\n",
    "            tx, ts, ta = transformation(tW, tu)\n",
    "\n",
    "        tJ = gtape1.jacobian(tx, tu)[:,0,:,0]\n",
    "        tg = tf.matmul(tf.transpose(tJ), tJ)\n",
    "        tg_ = tf.linalg.inv(tg)   \n",
    "        tdx_ds = gtape1.gradient(tx, ts)\n",
    "        \n",
    "    \n",
    "    tdx_dsds = gtape2.jacobian(tdx_ds, ts)[:,0,:,0]\n",
    "    tdx_dsds = tf.linalg.diag_part(tdx_dsds)\n",
    "\n",
    "    # compute manually the derivatives of the metric tensor wrt source variables\n",
    "    tdg_du = tf.reshape(\n",
    "        tf.stack([tf.reduce_sum((tW[:,alpha:alpha+1] * tW[:,beta:beta+1] * tW[:,gamma:gamma+1])[:,0]*2*tdx_ds[:,0]*tdx_dsds) \\\n",
    "                   for alpha, beta, gamma in itertools.product(*[list(range(dim_u))]*3)]),\n",
    "        (dim_u, dim_u, dim_u))    \n",
    "\n",
    "    r = []\n",
    "    for vi,vj,vk in itertools.product(*[list(range(u.shape[0]))]*3):\n",
    "        i.assign(vi)\n",
    "        j.assign(vj)\n",
    "        k.assign(vk)\n",
    "        r.append(get_christoffel_symbol(tg_, tdg_du, i, j, k))\n",
    "    \n",
    "    return tf.reshape(r, [tu.shape[0]]*3)"
   ]
  },
  {
   "cell_type": "code",
   "execution_count": 39,
   "metadata": {},
   "outputs": [
    {
     "name": "stdout",
     "output_type": "stream",
     "text": [
      "[[[ 0.23398133  0.0096741 ]\n",
      "  [ 0.0096741  -0.00869439]]\n",
      "\n",
      " [[-1.47620478  1.28079288]\n",
      "  [ 1.28079288 -0.89929744]]]\n",
      "867 ms ± 0 ns per loop (mean ± std. dev. of 1 run, 1 loop each)\n"
     ]
    }
   ],
   "source": [
    "%%timeit -n 1 -r 1\n",
    "tcf2 = get_christoffel_symbols(tW, tu, transformation)\n",
    "print(tcf2.numpy())"
   ]
  },
  {
   "cell_type": "code",
   "execution_count": 40,
   "metadata": {},
   "outputs": [
    {
     "name": "stdout",
     "output_type": "stream",
     "text": [
      "[[[ 0.23398133  0.0096741 ]\n",
      "  [ 0.0096741  -0.00869439]]\n",
      "\n",
      " [[-1.47620478  1.28079288]\n",
      "  [ 1.28079288 -0.89929744]]]\n",
      "824 ms ± 0 ns per loop (mean ± std. dev. of 1 run, 1 loop each)\n"
     ]
    }
   ],
   "source": [
    "%%timeit -n 1 -r 1\n",
    "tcf1 = get_christoffel_symbols_PERCEPTRON(tW, tu, transformation)\n",
    "print(tcf1.numpy())"
   ]
  },
  {
   "cell_type": "code",
   "execution_count": 41,
   "metadata": {},
   "outputs": [
    {
     "data": {
      "text/plain": [
       "True"
      ]
     },
     "execution_count": 41,
     "metadata": {},
     "output_type": "execute_result"
    }
   ],
   "source": [
    "np.allclose(get_christoffel_symbols_PERCEPTRON(tW, tu, transformation), get_christoffel_symbols(tW, tu, transformation))"
   ]
  },
  {
   "cell_type": "markdown",
   "metadata": {},
   "source": [
    "# Summary"
   ]
  },
  {
   "cell_type": "code",
   "execution_count": 42,
   "metadata": {},
   "outputs": [],
   "source": [
    "def transformation(tW, tu):\n",
    "    tlinear = lambda x: x\n",
    "    ta = lambda x: 1/(1+tf.exp(-x))\n",
    "    ts = tf.matmul(tW,tu) + tb\n",
    "    tx = ta(ts)\n",
    "    return tx, ts, ta\n"
   ]
  },
  {
   "cell_type": "code",
   "execution_count": 43,
   "metadata": {},
   "outputs": [
    {
     "data": {
      "text/plain": [
       "(<tf.Variable 'Variable:0' shape=(3, 2) dtype=float64, numpy=\n",
       " array([[-1.15159902, -2.99051546],\n",
       "        [-0.38944001,  0.34125733],\n",
       "        [-1.39846121, -0.18306849]])>,\n",
       " <tf.Variable 'Variable:0' shape=(2, 1) dtype=float64, numpy=\n",
       " array([[-0.61250047],\n",
       "        [ 0.75652911]])>)"
      ]
     },
     "execution_count": 43,
     "metadata": {},
     "output_type": "execute_result"
    }
   ],
   "source": [
    "tW = tf.Variable(np.random.normal(size=(dim_x,dim_u)))\n",
    "tu = tf.Variable(np.random.normal(size=(dim_u,1)))\n",
    "tb  = tf.Variable(np.zeros((dim_x,1)))\n",
    "tW, tu"
   ]
  },
  {
   "cell_type": "code",
   "execution_count": null,
   "metadata": {},
   "outputs": [],
   "source": []
  },
  {
   "cell_type": "markdown",
   "metadata": {},
   "source": [
    "### check with `sympy` on a  2D manifold embedded in 3D ambient space"
   ]
  },
  {
   "cell_type": "code",
   "execution_count": 55,
   "metadata": {},
   "outputs": [],
   "source": [
    "def transformation_sphere(tW, tu):\n",
    "    tx = tf.stack([tf.sin(tu[0])*tf.cos(tu[1]), \n",
    "                   tf.sin(tu[0])*tf.sin(tu[1]), \n",
    "                   tf.cos(tu[0])])\n",
    "    return tx, None, None"
   ]
  },
  {
   "cell_type": "code",
   "execution_count": 56,
   "metadata": {},
   "outputs": [],
   "source": [
    "tu = tf.Variable(np.array([[-0.64853741], [ 0.45577495]]))"
   ]
  },
  {
   "cell_type": "code",
   "execution_count": 57,
   "metadata": {},
   "outputs": [],
   "source": [
    "r, t, p = sy.symbols('r theta phi')\n",
    "\n",
    "x, y, z = sy.symbols('x y z')\n",
    "# define the metric \n",
    "metric = [[0 for i in range(3)] for i in range(3)]\n",
    "metric[0][0] = 1\n",
    "metric[1][1] = 1\n",
    "metric[2][2] = 1\n",
    "# creating metric object of 3D ambient space\n",
    "mh = MetricTensor(metric, (x, y, z))\n",
    "\n",
    "# ------------------\n",
    "# the transformation\n",
    "# ------------------\n",
    "xf = sy.sin(t)*sy.cos(p)\n",
    "yf = sy.sin(t)*sy.sin(p)\n",
    "zf = sy.cos(t)\n",
    "\n",
    "esyms = [t, p]\n",
    "hfuncs = [xf, yf, zf]\n",
    "\n",
    "me = [[0,0],[0,0]]\n",
    "for ki,kj in itertools.product(*([range(len(esyms))]*len(esyms))):\n",
    "    me[ki][kj] = (sum([hfuncs[m].diff(esyms[ki])*hfuncs[n].diff(esyms[kj])*mh[m,n] \\\n",
    "                for m,n in itertools.product(*([range(len(hfuncs))]*len(esyms)))])).simplify()\n",
    "me = MetricTensor(me, (t,p))\n",
    "cf = ChristoffelSymbols.from_metric(me)"
   ]
  },
  {
   "cell_type": "code",
   "execution_count": 58,
   "metadata": {},
   "outputs": [
    {
     "data": {
      "text/plain": [
       "array([[1.        , 0.        ],\n",
       "       [0.        , 0.36484187]])"
      ]
     },
     "execution_count": 58,
     "metadata": {},
     "output_type": "execute_result"
    }
   ],
   "source": [
    "sme = me.tensor().subs({t: tu.numpy()[0,0], p: tu.numpy()[1,0]})\n",
    "sme = np.r_[[sme[i,j] for i,j in itertools.product(range(dim_u), range(dim_u))]].reshape(dim_u, dim_u).astype(float)\n",
    "sme"
   ]
  },
  {
   "cell_type": "code",
   "execution_count": 59,
   "metadata": {},
   "outputs": [
    {
     "data": {
      "text/plain": [
       "array([[1.        , 0.        ],\n",
       "       [0.        , 0.36484187]])"
      ]
     },
     "execution_count": 59,
     "metadata": {},
     "output_type": "execute_result"
    }
   ],
   "source": [
    "tme = get_metric_tensor(tW, tu, transformation_sphere).numpy()\n",
    "tme"
   ]
  },
  {
   "cell_type": "code",
   "execution_count": 60,
   "metadata": {},
   "outputs": [
    {
     "data": {
      "text/plain": [
       "array([[[ 0.        ,  0.        ],\n",
       "        [ 0.        ,  0.48138579]],\n",
       "\n",
       "       [[ 0.        , -1.31943681],\n",
       "        [-1.31943681,  0.        ]]])"
      ]
     },
     "execution_count": 60,
     "metadata": {},
     "output_type": "execute_result"
    }
   ],
   "source": [
    "scf = cf.tensor().subs({t: tu.numpy()[0,0], p: tu.numpy()[1,0]})\n",
    "scf = np.r_[[scf[i,j,k] for i,j,k in itertools.product(range(dim_u), range(dim_u), range(dim_u))]].reshape(dim_u, dim_u, dim_u).astype(float)\n",
    "scf"
   ]
  },
  {
   "cell_type": "code",
   "execution_count": 61,
   "metadata": {},
   "outputs": [
    {
     "data": {
      "text/plain": [
       "array([[[-5.55111512e-17,  5.55111512e-17],\n",
       "        [ 5.55111512e-17,  4.81385791e-01]],\n",
       "\n",
       "       [[-7.60756315e-17, -1.31943681e+00],\n",
       "        [-1.31943681e+00,  0.00000000e+00]]])"
      ]
     },
     "execution_count": 61,
     "metadata": {},
     "output_type": "execute_result"
    }
   ],
   "source": [
    "mcf = get_christoffel_symbols(tW, tu, transformation_sphere).numpy()\n",
    "mcf"
   ]
  },
  {
   "cell_type": "markdown",
   "metadata": {},
   "source": [
    "check on many random points"
   ]
  },
  {
   "cell_type": "code",
   "execution_count": 62,
   "metadata": {},
   "outputs": [
    {
     "name": "stderr",
     "output_type": "stream",
     "text": [
      "100% (200 of 200) |######################| Elapsed Time: 0:00:38 Time:  0:00:38\n"
     ]
    }
   ],
   "source": [
    "from progressbar import progressbar as pbar\n",
    "from time import time\n",
    "ttimes = []\n",
    "stimes = []\n",
    "for _ in pbar(range(200)):\n",
    "    tu = tf.Variable(np.random.normal(size=(dim_u,1)))\n",
    "    s_start = time()\n",
    "    sme = me.tensor().subs({t: tu.numpy()[0,0], p: tu.numpy()[1,0]})\n",
    "    sme = np.r_[[sme[i,j] for i,j in itertools.product(range(dim_u), range(dim_u))]].reshape(dim_u, dim_u).astype(float)\n",
    "    scf = cf.tensor().subs({t: tu.numpy()[0,0], p: tu.numpy()[1,0]})\n",
    "    scf = np.r_[[scf[i,j,k] for i,j,k in itertools.product(range(dim_u), range(dim_u), range(dim_u))]].reshape(dim_u, dim_u, dim_u).astype(float)\n",
    "    s_elapsed = time()-s_start\n",
    "    \n",
    "    t_start = time()\n",
    "    tme = get_metric_tensor(tW, tu, transformation_sphere).numpy()\n",
    "    tcf = get_christoffel_symbols(tW, tu, transformation_sphere).numpy()\n",
    "    t_elapsed = time() - t_start\n",
    "\n",
    "    stimes.append(s_elapsed)\n",
    "    ttimes.append(t_elapsed)\n",
    "    \n",
    "    assert np.allclose(sme, tme)\n",
    "    assert np.allclose(scf, tcf)"
   ]
  },
  {
   "cell_type": "code",
   "execution_count": 63,
   "metadata": {},
   "outputs": [
    {
     "data": {
      "image/png": "[encoded data removed]",
      "text/plain": [
       "<Figure size 432x288 with 1 Axes>"
      ]
     },
     "metadata": {
      "needs_background": "light"
     },
     "output_type": "display_data"
    }
   ],
   "source": [
    "plt.plot(ttimes, label=\"tf\")\n",
    "plt.plot(stimes, label=\"sympy (only subs)\")\n",
    "plt.legend(); plt.grid();"
   ]
  },
  {
   "cell_type": "code",
   "execution_count": null,
   "metadata": {},
   "outputs": [],
   "source": []
  }
 ],
 "metadata": {
  "kernelspec": {
   "display_name": "p37",
   "language": "python",
   "name": "p37"
  },
  "language_info": {
   "codemirror_mode": {
    "name": "ipython",
    "version": 3
   },
   "file_extension": ".py",
   "mimetype": "text/x-python",
   "name": "python",
   "nbconvert_exporter": "python",
   "pygments_lexer": "ipython3",
   "version": "3.7.6"
  }
 },
 "nbformat": 4,
 "nbformat_minor": 4
}
