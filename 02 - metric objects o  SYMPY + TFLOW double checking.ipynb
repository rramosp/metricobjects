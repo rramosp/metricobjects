{
 "cells": [
  {
   "cell_type": "code",
   "execution_count": null,
   "metadata": {},
   "outputs": [],
   "source": [
    "!wget --no-cache -O init.py -q https://raw.githubusercontent.com/rramosp/metricobjects/master/init.py\n",
    "import init; init.init(force_download=False); "
   ]
  },
  {
   "cell_type": "code",
   "execution_count": 6,
   "metadata": {},
   "outputs": [
    {
     "data": {
      "text/plain": [
       "'2.1.0'"
      ]
     },
     "execution_count": 6,
     "metadata": {},
     "output_type": "execute_result"
    }
   ],
   "source": [
    "import numpy as np\n",
    "import tensorflow as tf\n",
    "import sympy as sympy\n",
    "import itertools\n",
    "import metricobjects as mo\n",
    "from progressbar import progressbar as pbar\n",
    "sympy.init_printing(use_latex=True)\n",
    "from importlib import reload\n",
    "reload(mo)\n",
    "tf.__version__"
   ]
  },
  {
   "cell_type": "markdown",
   "metadata": {},
   "source": [
    "see for reference:\n",
    "\n",
    "- http://physics.usu.edu/Wheeler/GenRel/Lectures/2Sphere.pdf\n",
    "- https://digitalcommons.latech.edu/cgi/viewcontent.cgi?article=1008&context=mathematics-senior-capstone-papers"
   ]
  },
  {
   "cell_type": "code",
   "execution_count": 7,
   "metadata": {},
   "outputs": [],
   "source": [
    "class SySphere(mo.SyModel):\n",
    "    \"\"\"\n",
    "    2D sphered embedded in flat 3D space of radius 1\n",
    "    \"\"\"\n",
    "    def __init__(self):        \n",
    "        t, p = sympy.symbols('theta phi')\n",
    "\n",
    "        self.input_vars = [t, p]\n",
    "        \n",
    "        self.output_vars = [sympy.sin(t)*sympy.cos(p), \n",
    "                            sympy.sin(t)*sympy.sin(p), \n",
    "                            sympy.cos(t)\n",
    "                            ]\n",
    "        \n",
    "class TFSphere:\n",
    "    def __call__(self, u):\n",
    "        t,p = u[:,0], u[:,1]\n",
    "        x = tf.sin(t)*tf.cos(p)\n",
    "        y = tf.sin(t)*tf.sin(p) \n",
    "        z = tf.cos(t)\n",
    "        r = tf.transpose(tf.stack([x,y,z]))\n",
    "        return r        "
   ]
  },
  {
   "cell_type": "code",
   "execution_count": 8,
   "metadata": {},
   "outputs": [],
   "source": [
    "tu = tf.Variable(np.array([[+.1,-.9], [-1.,-.9], [-0.1,-1.9], \n",
    "                           [0.5,-0.2]]), dtype=np.float32)\n",
    "nu = tu.numpy()"
   ]
  },
  {
   "cell_type": "code",
   "execution_count": 9,
   "metadata": {},
   "outputs": [],
   "source": [
    "smo = mo.SympyMetricObjects(SySphere())\n",
    "tmo = mo.TensorFlowMetricObjects(TFSphere())"
   ]
  },
  {
   "cell_type": "markdown",
   "metadata": {},
   "source": [
    "check **metric tensor**: $g_{ij}$"
   ]
  },
  {
   "cell_type": "code",
   "execution_count": 10,
   "metadata": {},
   "outputs": [
    {
     "data": {
      "text/plain": [
       "True"
      ]
     },
     "execution_count": 10,
     "metadata": {},
     "output_type": "execute_result"
    }
   ],
   "source": [
    "sG = smo.get_metric_tensor(nu)\n",
    "tG = tmo.get_metric_tensor(tu).numpy()\n",
    "np.allclose(sG, tG)"
   ]
  },
  {
   "cell_type": "markdown",
   "metadata": {},
   "source": [
    "check **inverse metric tensor**: $g^{ij}$\n"
   ]
  },
  {
   "cell_type": "code",
   "execution_count": 11,
   "metadata": {},
   "outputs": [
    {
     "data": {
      "text/plain": [
       "True"
      ]
     },
     "execution_count": 11,
     "metadata": {},
     "output_type": "execute_result"
    }
   ],
   "source": [
    "sG_ = smo.get_inverse_metric_tensor(nu)\n",
    "tG_ = tmo.get_inverse_metric_tensor(tu).numpy()\n",
    "np.allclose(sG_, tG_)"
   ]
  },
  {
   "cell_type": "markdown",
   "metadata": {},
   "source": [
    "check **metric tensor wrt its inverse**: $g_{ij}g^{jk}=\\delta_i^k$"
   ]
  },
  {
   "cell_type": "code",
   "execution_count": 12,
   "metadata": {},
   "outputs": [
    {
     "data": {
      "text/plain": [
       "[True, True, True, True]"
      ]
     },
     "execution_count": 12,
     "metadata": {},
     "output_type": "execute_result"
    }
   ],
   "source": [
    "[np.allclose(tG_[0].dot(tG[0]), np.eye(len(smo.model.input_vars)), atol=1e-6) for i in range(len(nu))]"
   ]
  },
  {
   "cell_type": "markdown",
   "metadata": {},
   "source": [
    "check **jacobian**\n"
   ]
  },
  {
   "cell_type": "code",
   "execution_count": 13,
   "metadata": {},
   "outputs": [
    {
     "data": {
      "text/plain": [
       "True"
      ]
     },
     "execution_count": 13,
     "metadata": {},
     "output_type": "execute_result"
    }
   ],
   "source": [
    "sJ = smo.get_jacobian(nu)\n",
    "tJ = tmo.get_jacobian(tu)\n",
    "np.allclose(sJ, tJ)"
   ]
  },
  {
   "cell_type": "markdown",
   "metadata": {},
   "source": [
    "check **derivative of metric tensor wrt input vars**: $\\frac{\\partial g_{ij}}{\\partial u^k}$"
   ]
  },
  {
   "cell_type": "code",
   "execution_count": 14,
   "metadata": {},
   "outputs": [
    {
     "data": {
      "text/plain": [
       "True"
      ]
     },
     "execution_count": 14,
     "metadata": {},
     "output_type": "execute_result"
    }
   ],
   "source": [
    "sdG = smo.get_dg(nu)\n",
    "tdG = tmo.get_dg(tu)\n",
    "np.allclose(sdG, tdG, atol=1e-4)"
   ]
  },
  {
   "cell_type": "markdown",
   "metadata": {},
   "source": [
    "check **christoffel symbols** $\\Gamma^i_{jk}$"
   ]
  },
  {
   "cell_type": "code",
   "execution_count": 15,
   "metadata": {},
   "outputs": [
    {
     "data": {
      "text/plain": [
       "True"
      ]
     },
     "execution_count": 15,
     "metadata": {},
     "output_type": "execute_result"
    }
   ],
   "source": [
    "sC = smo.get_christoffel_symbols(nu)\n",
    "tC = tmo.get_christoffel_symbols(tu)\n",
    "np.allclose(sC, tC, atol=1e-4)"
   ]
  },
  {
   "cell_type": "markdown",
   "metadata": {},
   "source": [
    "check **derivative of christoffel symbols wrt input vars**: $\\frac{\\partial \\Gamma^i_{jk}}{\\partial u^m}$"
   ]
  },
  {
   "cell_type": "code",
   "execution_count": 16,
   "metadata": {
    "scrolled": true
   },
   "outputs": [
    {
     "data": {
      "text/plain": [
       "True"
      ]
     },
     "execution_count": 16,
     "metadata": {},
     "output_type": "execute_result"
    }
   ],
   "source": [
    "sdC = smo.get_dc(nu)\n",
    "tdC = tmo.get_dc(tu)\n",
    "np.allclose(sdC, tdC, atol=1e-4)"
   ]
  },
  {
   "cell_type": "markdown",
   "metadata": {},
   "source": [
    "check the **Riemann curvature tensor**: $R^i_{jkm}$"
   ]
  },
  {
   "cell_type": "code",
   "execution_count": 17,
   "metadata": {},
   "outputs": [
    {
     "data": {
      "text/plain": [
       "(True, True)"
      ]
     },
     "execution_count": 17,
     "metadata": {},
     "output_type": "execute_result"
    }
   ],
   "source": [
    "sR  = smo.get_riemann_curvature_tensor(nu)\n",
    "sRe = smo.get_riemann_curvature_tensor_from_einsteinpy(nu)\n",
    "tR  = tmo.get_riemann_curvature_tensor(tu)\n",
    "np.allclose(tR, sR, atol=1e-4), np.allclose(sRe, sR, atol=1e-4)"
   ]
  },
  {
   "cell_type": "markdown",
   "metadata": {},
   "source": [
    "check the **Ricci tensor**: $R_{jm} = R^i_{jim}$"
   ]
  },
  {
   "cell_type": "code",
   "execution_count": 18,
   "metadata": {},
   "outputs": [
    {
     "data": {
      "text/plain": [
       "True"
      ]
     },
     "execution_count": 18,
     "metadata": {},
     "output_type": "execute_result"
    }
   ],
   "source": [
    "srt = smo.get_ricci_tensor(nu)\n",
    "trt = tmo.get_ricci_tensor(tu)\n",
    "np.allclose(srt, trt, atol=1e-4)"
   ]
  },
  {
   "cell_type": "markdown",
   "metadata": {},
   "source": [
    "check the **Ricci scalar**: $R = g^{jm}R_{jm}$, note that this is an **invariant scalar**"
   ]
  },
  {
   "cell_type": "code",
   "execution_count": 19,
   "metadata": {},
   "outputs": [
    {
     "data": {
      "text/plain": [
       "True"
      ]
     },
     "execution_count": 19,
     "metadata": {},
     "output_type": "execute_result"
    }
   ],
   "source": [
    "srs = smo.get_ricci_scalar(nu)\n",
    "trs = tmo.get_ricci_scalar(tu)\n",
    "np.allclose(srs, trs, atol=1e-4)"
   ]
  },
  {
   "cell_type": "code",
   "execution_count": null,
   "metadata": {},
   "outputs": [],
   "source": []
  },
  {
   "cell_type": "markdown",
   "metadata": {},
   "source": [
    "## Other examples"
   ]
  },
  {
   "cell_type": "code",
   "execution_count": 20,
   "metadata": {},
   "outputs": [],
   "source": [
    "class SyParaboloid(mo.SyModel):\n",
    "    def __init__(self):        \n",
    "        t, p = sympy.symbols('theta phi')\n",
    "        self.input_vars = [t, p]\n",
    "        self.output_vars = [t, p, t**2 + p**2]\n",
    "\n",
    "class TFParaboloid:\n",
    "    def __call__(self, u):\n",
    "        t,p = u[:,0], u[:,1]\n",
    "        x = t\n",
    "        y = p\n",
    "        z = t**2+p**2\n",
    "        r = tf.transpose(tf.stack([x,y,z]))\n",
    "        return r   "
   ]
  },
  {
   "cell_type": "code",
   "execution_count": 29,
   "metadata": {},
   "outputs": [],
   "source": [
    "tu = tf.Variable(np.array([[0,0],[.1,.1], [.5,.5], [1,1], [-1,1], [2,2],[3,3]]), dtype=np.float32)\n",
    "nu = tu.numpy()"
   ]
  },
  {
   "cell_type": "code",
   "execution_count": 30,
   "metadata": {},
   "outputs": [],
   "source": [
    "smo = mo.SympyMetricObjects(SyParaboloid())\n",
    "tmo = mo.TensorFlowMetricObjects(TFParaboloid())"
   ]
  },
  {
   "cell_type": "code",
   "execution_count": 31,
   "metadata": {},
   "outputs": [
    {
     "data": {
      "text/plain": [
       "<tf.Tensor: shape=(7,), dtype=float32, numpy=\n",
       "array([8.0000000e+00, 6.8587112e+00, 8.8888907e-01, 9.8764926e-02,\n",
       "       9.8764926e-02, 7.3461719e-03, 1.5005171e-03], dtype=float32)>"
      ]
     },
     "execution_count": 31,
     "metadata": {},
     "output_type": "execute_result"
    }
   ],
   "source": [
    "tmo.get_ricci_scalar(tu)"
   ]
  },
  {
   "cell_type": "code",
   "execution_count": 32,
   "metadata": {},
   "outputs": [
    {
     "data": {
      "text/plain": [
       "array([8.00000e+00, 6.85871e+00, 8.88889e-01, 9.87654e-02, 9.87654e-02,\n",
       "       7.34620e-03, 1.50122e-03])"
      ]
     },
     "execution_count": 32,
     "metadata": {},
     "output_type": "execute_result"
    }
   ],
   "source": [
    "smo.get_ricci_scalar(nu)"
   ]
  },
  {
   "cell_type": "code",
   "execution_count": null,
   "metadata": {},
   "outputs": [],
   "source": [
    "class SyEllipsoid(mo.SyModel):\n",
    "    def __init__(self):        \n",
    "        t, p = sympy.symbols('theta phi')\n",
    "        self.input_vars = [t, p]\n",
    "        self.output_vars = [1*sympy.sin(t)*sympy.cos(p), \n",
    "                            2*sympy.sin(t)*sympy.sin(p), \n",
    "                            3*sympy.cos(t)\n",
    "                            ]\n",
    "        \n",
    "class TFEllipsoid:\n",
    "    def __call__(self, u):\n",
    "        t,p = u[:,0], u[:,1]\n",
    "        x = 1*tf.sin(t)*tf.cos(p)\n",
    "        y = 2*tf.sin(t)*tf.sin(p) \n",
    "        z = 3*tf.cos(t)\n",
    "        r = tf.transpose(tf.stack([x,y,z]))\n",
    "        return r"
   ]
  },
  {
   "cell_type": "code",
   "execution_count": 49,
   "metadata": {},
   "outputs": [],
   "source": [
    "smo = mo.SympyMetricObjects(SyEllipsoid())\n",
    "tmo = mo.TensorFlowMetricObjects(TFEllipsoid())"
   ]
  },
  {
   "cell_type": "code",
   "execution_count": 50,
   "metadata": {},
   "outputs": [
    {
     "data": {
      "text/plain": [
       "<tf.Tensor: shape=(7,), dtype=float32, numpy=\n",
       "array([0.        , 3.8646674 , 0.73037195, 0.41818768, 0.41818768,\n",
       "       0.49998564, 3.3636713 ], dtype=float32)>"
      ]
     },
     "execution_count": 50,
     "metadata": {},
     "output_type": "execute_result"
    }
   ],
   "source": [
    "tmo.get_ricci_scalar(tu)"
   ]
  },
  {
   "cell_type": "code",
   "execution_count": 51,
   "metadata": {},
   "outputs": [
    {
     "data": {
      "text/plain": [
       "array([4.5     , 3.86473 , 0.730372, 0.418188, 0.418188, 0.499985,\n",
       "       3.36368 ])"
      ]
     },
     "execution_count": 51,
     "metadata": {},
     "output_type": "execute_result"
    }
   ],
   "source": [
    "smo.get_ricci_scalar(nu)"
   ]
  },
  {
   "cell_type": "code",
   "execution_count": null,
   "metadata": {},
   "outputs": [],
   "source": []
  },
  {
   "cell_type": "code",
   "execution_count": null,
   "metadata": {},
   "outputs": [],
   "source": []
  },
  {
   "cell_type": "code",
   "execution_count": null,
   "metadata": {},
   "outputs": [],
   "source": []
  },
  {
   "cell_type": "code",
   "execution_count": null,
   "metadata": {},
   "outputs": [],
   "source": [
    "class SyQuadratic(mo.SyModel):\n",
    "    def __init__(self):        \n",
    "        t, p, r = sympy.symbols('theta phi, ro')\n",
    "        self.input_vars = [t, p, r]\n",
    "        self.output_vars = [t**2+p**2, r**2]\n",
    "\n",
    "\n",
    "class TFQuadratic:\n",
    "    def __call__(self, u):\n",
    "        t,p,r = u[:,0], u[:,1], u[:,2]\n",
    "        x = t**2+p**2\n",
    "        y = r**2\n",
    "        r = tf.transpose(tf.stack([x,y]))\n",
    "        return r "
   ]
  },
  {
   "cell_type": "code",
   "execution_count": null,
   "metadata": {},
   "outputs": [],
   "source": [
    "smo = mo.SympyMetricObjects(SyQuadratic())\n",
    "tmo = mo.TensorFlowMetricObjects(TFQuadratic())"
   ]
  },
  {
   "cell_type": "code",
   "execution_count": null,
   "metadata": {},
   "outputs": [],
   "source": []
  },
  {
   "cell_type": "code",
   "execution_count": 37,
   "metadata": {},
   "outputs": [
    {
     "data": {
      "text/plain": [
       "<tf.Tensor: shape=(7,), dtype=float32, numpy=array([0., 0., 0., 0., 0., 0., 0.], dtype=float32)>"
      ]
     },
     "execution_count": 37,
     "metadata": {},
     "output_type": "execute_result"
    }
   ],
   "source": [
    "tmo.get_ricci_scalar(tu)"
   ]
  },
  {
   "cell_type": "code",
   "execution_count": 39,
   "metadata": {},
   "outputs": [
    {
     "data": {
      "text/plain": [
       "<tf.Tensor: shape=(7, 2, 2, 2), dtype=float32, numpy=\n",
       "array([[[[ 0.        ,  0.        ],\n",
       "         [ 0.        ,  0.        ]],\n",
       "\n",
       "        [[ 0.        ,  0.        ],\n",
       "         [ 0.        ,  0.        ]]],\n",
       "\n",
       "\n",
       "       [[[ 9.999999  ,  0.        ],\n",
       "         [ 0.        ,  0.        ]],\n",
       "\n",
       "        [[ 0.        ,  0.        ],\n",
       "         [ 0.        ,  9.999999  ]]],\n",
       "\n",
       "\n",
       "       [[[ 2.        ,  0.        ],\n",
       "         [ 0.        ,  0.        ]],\n",
       "\n",
       "        [[ 0.        ,  0.        ],\n",
       "         [ 0.        ,  2.        ]]],\n",
       "\n",
       "\n",
       "       [[[ 1.        ,  0.        ],\n",
       "         [ 0.        ,  0.        ]],\n",
       "\n",
       "        [[ 0.        ,  0.        ],\n",
       "         [ 0.        ,  1.        ]]],\n",
       "\n",
       "\n",
       "       [[[-1.        ,  0.        ],\n",
       "         [ 0.        ,  0.        ]],\n",
       "\n",
       "        [[ 0.        ,  0.        ],\n",
       "         [ 0.        ,  1.        ]]],\n",
       "\n",
       "\n",
       "       [[[ 0.5       ,  0.        ],\n",
       "         [ 0.        ,  0.        ]],\n",
       "\n",
       "        [[ 0.        ,  0.        ],\n",
       "         [ 0.        ,  0.5       ]]],\n",
       "\n",
       "\n",
       "       [[[ 0.33333334,  0.        ],\n",
       "         [ 0.        ,  0.        ]],\n",
       "\n",
       "        [[ 0.        ,  0.        ],\n",
       "         [ 0.        ,  0.33333334]]]], dtype=float32)>"
      ]
     },
     "execution_count": 39,
     "metadata": {},
     "output_type": "execute_result"
    }
   ],
   "source": [
    "tmo.get_christoffel_symbols(tu)"
   ]
  },
  {
   "cell_type": "code",
   "execution_count": null,
   "metadata": {},
   "outputs": [],
   "source": []
  }
 ],
 "metadata": {
  "kernelspec": {
   "display_name": "p37",
   "language": "python",
   "name": "p37"
  },
  "language_info": {
   "codemirror_mode": {
    "name": "ipython",
    "version": 3
   },
   "file_extension": ".py",
   "mimetype": "text/x-python",
   "name": "python",
   "nbconvert_exporter": "python",
   "pygments_lexer": "ipython3",
   "version": "3.7.6"
  }
 },
 "nbformat": 4,
 "nbformat_minor": 2
}
